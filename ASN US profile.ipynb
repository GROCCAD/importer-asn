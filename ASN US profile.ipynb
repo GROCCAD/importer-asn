{
 "cells": [
  {
   "cell_type": "code",
   "execution_count": 7,
   "metadata": {},
   "outputs": [],
   "source": [
    "import json\n",
    "data = json.load(open('data/ASN_US_profile.json'))"
   ]
  },
  {
   "cell_type": "code",
   "execution_count": 9,
   "metadata": {},
   "outputs": [],
   "source": [
    "profile = data['Profile']"
   ]
  },
  {
   "cell_type": "code",
   "execution_count": 10,
   "metadata": {},
   "outputs": [
    {
     "data": {
      "text/plain": [
       "dict_keys(['id', 'title', 'description', 'date', 'contact', 'remark', 'resourceTemplates'])"
      ]
     },
     "execution_count": 10,
     "metadata": {},
     "output_type": "execute_result"
    }
   ],
   "source": [
    "profile.keys()"
   ]
  },
  {
   "cell_type": "code",
   "execution_count": 13,
   "metadata": {},
   "outputs": [],
   "source": [
    "doc = profile['resourceTemplates'][0]\n",
    "statement = profile['resourceTemplates'][1]"
   ]
  },
  {
   "cell_type": "code",
   "execution_count": 15,
   "metadata": {},
   "outputs": [
    {
     "data": {
      "text/plain": [
       "[{'propertyURI': 'http://purl.org/ASN/schema/core/alignFrom',\n",
       "  'propertyLabel': 'Aligned From',\n",
       "  'repeatable': 'true',\n",
       "  'mandatory': 'false',\n",
       "  'type': 'resource',\n",
       "  'valueConstraint': {'valueTemplateRefs': ['asn:Statement']}},\n",
       " {'propertyURI': 'http://purl.org/ASN/schema/core/alignto',\n",
       "  'propertyLabel': 'Aligned To',\n",
       "  'repeatable': 'true',\n",
       "  'mandatory': 'false',\n",
       "  'type': 'resource',\n",
       "  'valueConstraint': {'valueTemplateRefs': ['http://purl.org/ASN/schema/core/Statement']}},\n",
       " {'propertyURI': 'http://purl.org/ASN/schema/core/altStatementNotation',\n",
       "  'propertyLabel': 'Alternate Statement Notation',\n",
       "  'type': 'literal',\n",
       "  'repeatable': 'false',\n",
       "  'mandatory': 'false'},\n",
       " {'propertyURI': 'http://www.loc.gov/loc.terms/relators/AUT',\n",
       "  'propertyLabel': 'Author',\n",
       "  'type': 'literal',\n",
       "  'repeatable': 'true',\n",
       "  'mandatory': 'false'},\n",
       " {'propertyURI': 'http://purl.org/ASN/schema/core/authorityStatus',\n",
       "  'propertyLabel': 'Authority Status',\n",
       "  'type': 'resource',\n",
       "  'valueConstraint': {'repeatable': 'false',\n",
       "   'mandatory': 'true',\n",
       "   'usesValuesFrom': ['http://purl.org/ASN/scheme/ASNAuthorityStatus/']}},\n",
       " {'propertyURI': 'http://purl.org/ASN/schema/core/broadAlignment',\n",
       "  'propertyLabel': 'Broad Alignment',\n",
       "  'repeatable': 'true',\n",
       "  'mandatory': 'false',\n",
       "  'type': 'resource',\n",
       "  'valueConstraint': {'valueTemplateRefs': ['http://purl.org/ASN/schema/core/Statement']}},\n",
       " {'propertyURI': 'http://purl.org/ASN/schema/core/comment',\n",
       "  'propertyLabel': 'Comment',\n",
       "  'type': 'literal',\n",
       "  'repeatable': 'true',\n",
       "  'mandatory': 'false',\n",
       "  'valueConstraint': {'valueLanguage': 'en'}},\n",
       " {'propertyURI': 'http://purl.org/ASN/schema/core/comprisedOf',\n",
       "  'propertyLabel': 'Comprised Of',\n",
       "  'repeatable': 'true',\n",
       "  'mandatory': 'false',\n",
       "  'type': 'resource'},\n",
       " {'propertyURI': 'http://purl.org/ASN/schema/core/conceptKeyword',\n",
       "  'propertyLabel': 'Concept Key Word',\n",
       "  'type': 'literal',\n",
       "  'repeatable': 'true',\n",
       "  'mandatory': 'false',\n",
       "  'valueConstraint': {'valueLanguage': 'en'}},\n",
       " {'propertyURI': 'http://purl.org/ASN/schema/core/conceptTerm',\n",
       "  'propertyLabel': 'Concept Term',\n",
       "  'type': 'resource',\n",
       "  'valueConstraint': {'repeatable': 'true',\n",
       "   'mandatory': 'false',\n",
       "   'usesValuesFrom': ['http://vocabulary.curriculum.edu.au/scot/',\n",
       "    'http://dbpedia.org/resource/',\n",
       "    'https://www.freebase.com/',\n",
       "    'http://id.loc.gov/authorities/subjects/',\n",
       "    'http://id.loc.gov/authorities/names/',\n",
       "    'http://viaf.org/viaf/',\n",
       "    'http://vocab.getty.edu/tgn/',\n",
       "    'http://vocab.getty.edu/att/',\n",
       "    'http://vocab.getty.edu/ulan/']}},\n",
       " {'propertyURI': 'http://purl.org/ASN/schema/core/crossSubjectReference',\n",
       "  'propertyLabel': 'Cross-Subject Reference',\n",
       "  'repeatable': 'true',\n",
       "  'mandatory': 'false',\n",
       "  'type': 'resource',\n",
       "  'valueConstraint': {'valueTemplateRefs': ['asn:Statement']}},\n",
       " {'propertyURI': 'http://purl.org/ASN/schema/core/derivedFrom',\n",
       "  'propertyLabel': 'Derived From',\n",
       "  'repeatable': 'true',\n",
       "  'mandatory': 'false',\n",
       "  'type': 'resource',\n",
       "  'valueConstraint': {'valueTemplateRefs': ['asn:Statement']}},\n",
       " {'propertyURI': 'http://purl.org/dc/term/description',\n",
       "  'propertyLabel': 'Description',\n",
       "  'type': 'literal',\n",
       "  'repeatable': 'true',\n",
       "  'mandatory': 'true',\n",
       "  'valueConstraint': {'valueLanguage': 'en'}},\n",
       " {'propertyURI': 'http://purl.org/dc/terms/educationLevel',\n",
       "  'propertyLabel': 'Education Level',\n",
       "  'type': 'resource',\n",
       "  'valueConstraint': {'repeatable': 'true',\n",
       "   'mandatory': 'true',\n",
       "   'usesValuesFrom': ['http://purl.org/ASN/scheme/ASNEducationLevel/']}},\n",
       " {'propertyURI': 'http://purl.org/ASN/schema/core/exactAlignment',\n",
       "  'propertyLabel': 'Exact Alignment',\n",
       "  'repeatable': 'true',\n",
       "  'mandatory': 'false',\n",
       "  'type': 'resource',\n",
       "  'valueConstraint': {'valueTemplateRefs': ['asn:Statement']}},\n",
       " {'propertyURI': 'http://www.w3.org/2004/02/skos/core#exactMatch',\n",
       "  'propertyLabel': 'Has Exact Match',\n",
       "  'repeatable': 'true',\n",
       "  'mandatory': 'false',\n",
       "  'type': 'resource',\n",
       "  'valueConstraint': {'valueTemplateRefs': ['http://purl.org/ASN/schema/core/Statement']}},\n",
       " {'propertyURI': 'http://purl.org/gem/qualifiers/hasChild',\n",
       "  'propertyLabel': 'Has Child',\n",
       "  'repeatable': 'true',\n",
       "  'mandatory': 'false',\n",
       "  'type': 'resource',\n",
       "  'valueConstraint': {'valueTemplateRefs': ['asn:Statement']}},\n",
       " {'propertyURI': 'http://purl.org/ASN/schema/core/indexingStatus',\n",
       "  'propertyLabel': 'Indexing Status',\n",
       "  'type': 'resource',\n",
       "  'valueConstraint': {'repeatable': 'true',\n",
       "   'mandatory': 'true',\n",
       "   'usesValuesFrom': ['http://purl.org/ASN/scheme/ASNIndexingStatus/']}},\n",
       " {'propertyURI': 'http://purl.org/gem/qualifiers/isChildOf',\n",
       "  'propertyLabel': 'Is Child Of',\n",
       "  'repeatable': 'true',\n",
       "  'mandatory': 'false',\n",
       "  'type': 'resource',\n",
       "  'valueConstraint': {'valueTemplateRefs': ['asn:Statement',\n",
       "    'asn:StandardSocument']}},\n",
       " {'propertyURI': 'http://purl.org/gem/qualifiers/isChildOf',\n",
       "  'propertyLabel': 'Is Part Of',\n",
       "  'repeatable': 'true',\n",
       "  'mandatory': 'true',\n",
       "  'type': 'resource',\n",
       "  'valueConstraint': {'valueTemplateRefs': ['asn:StandardDocument']}},\n",
       " {'propertyURI': 'http://purl.org/dc/terms/isVersionOf',\n",
       "  'propertyLabel': 'Is Version Of',\n",
       "  'repeatable': 'false',\n",
       "  'mandatory': 'false',\n",
       "  'type': 'resource',\n",
       "  'valueConstraint': {'valueTemplateRefs': ['asn:Statement']}},\n",
       " {'propertyURI': 'http://purl.org/dc/elements/1.1/language',\n",
       "  'propertyLabel': 'Language',\n",
       "  'type': 'resource',\n",
       "  'valueConstraint': {'repeatable': 'false',\n",
       "   'mandatory': 'true',\n",
       "   'usesValuesFrom': ['http://id.loc.gov/vocabulary/iso639-1/'],\n",
       "   'defaultURI': 'http://id.loc.gov/vocabulary/iso639-1/en'}},\n",
       " {'propertyURI': 'http://purl.org/ASN/schema/core/listID',\n",
       "  'propertyLabel': 'List ID',\n",
       "  'type': 'literal',\n",
       "  'repeatable': 'true',\n",
       "  'mandatory': 'false'},\n",
       " {'propertyURI': 'http://purl.org/ASN/schema/core/localSubject',\n",
       "  'propertyLabel': 'Local Subject',\n",
       "  'type': 'literal',\n",
       "  'repeatable': 'true',\n",
       "  'mandatory': 'false',\n",
       "  'valueConstraint': {'valueLanguage': 'en'}},\n",
       " {'propertyURI': 'http://purl.org/ASN/schema/core/majorAlignment',\n",
       "  'propertyLabel': 'Major Alignment',\n",
       "  'repeatable': 'true',\n",
       "  'mandatory': 'false',\n",
       "  'type': 'resource',\n",
       "  'valueConstraint': {'valueTemplateRefs': ['asn:Statement']}},\n",
       " {'propertyURI': 'http://purl.org/ASN/schema/core/minorAlignment',\n",
       "  'propertyLabel': 'Minor Alignment',\n",
       "  'repeatable': 'true',\n",
       "  'mandatory': 'false',\n",
       "  'type': 'resource',\n",
       "  'valueConstraint': {'valueTemplateRefs': ['asn:Statement']}},\n",
       " {'propertyURI': 'http://purl.org/ASN/schema/core/narrowAlignment',\n",
       "  'propertyLabel': 'Narrow Alignment',\n",
       "  'repeatable': 'true',\n",
       "  'mandatory': 'false',\n",
       "  'type': 'resource',\n",
       "  'valueConstraint': {'valueTemplateRefs': ['asn:Statement']}},\n",
       " {'propertyURI': 'http://purl.org/ASN/schema/core/skillEmbodied',\n",
       "  'propertyLabel': 'Skills Embodied',\n",
       "  'type': 'resource',\n",
       "  'valueConstraint': {'repeatable': 'true',\n",
       "   'mandatory': 'false',\n",
       "   'usesValuesFrom': ['http://purl.org/ASN/schema/core/SkillsEmbodied']}},\n",
       " {'propertyURI': 'http://purl.org/dc/terms/spatial',\n",
       "  'propertyLabel': 'Spatial',\n",
       "  'type': 'literal',\n",
       "  'valueConstraint': {'valueDataType': {'resourceURI': 'http://www.w3.org/2001/XMLSchema#date',\n",
       "    'valueLabel': 'ISO 8601'}}},\n",
       " {'propertyURI': 'http://purl.org/ASN/schema/core/statementLabel',\n",
       "  'propertyLabel': 'Statement Label',\n",
       "  'type': 'literal',\n",
       "  'repeatable': 'true',\n",
       "  'mandatory': 'false',\n",
       "  'valueConstraint': {'valueLanguage': 'en'}},\n",
       " {'propertyURI': 'http://purl.org/ASN/schema/core/statementNotation',\n",
       "  'propertyLabel': 'Statement Notation',\n",
       "  'type': 'literal',\n",
       "  'repeatable': 'true',\n",
       "  'mandatory': 'false'},\n",
       " {'propertyURI': 'http://purl.org/dc/terms/subject',\n",
       "  'propertyLabel': 'Subject',\n",
       "  'type': 'resource',\n",
       "  'valueConstraint': {'repeatable': 'false',\n",
       "   'mandatory': 'true',\n",
       "   'usesValuesFrom': ['http://purl.org/ASN/scheme/ASNTopics/']}}]"
      ]
     },
     "execution_count": 15,
     "metadata": {},
     "output_type": "execute_result"
    }
   ],
   "source": [
    "statement['propertyTemplates']"
   ]
  },
  {
   "cell_type": "code",
   "execution_count": 21,
   "metadata": {},
   "outputs": [
    {
     "name": "stdout",
     "output_type": "stream",
     "text": [
      "doc asn:StandardDocument Standard Document\n",
      " - http://purl.org/ASN/schema/core/alignFrom\n",
      " - http://purl.org/ASN/schema/core/alignTo\n",
      " - http://www.loc.gov/loc.terms/relators/AUT\n",
      " - http://purl.org/dc/terms/dateCopyrighted\n",
      " - http://purl.org/dc/terms/dateValid\n",
      " - http://purl.org/dc/term/description\n",
      " - http://purl.org/dc/terms/educationLevel\n",
      " - http://purl.org/gem/qualifiers/hasChild\n",
      " - http://purl.org/gem/qualifiers/identifier\n",
      " - http://purl.org/ASN/schema/core/jurisdiction\n",
      " - http://purl.org/dc/elements/1.1/language\n",
      " - http://purl.org/dc/terms/license\n",
      " - http://purl.org/ASN/schema/core/localSubject\n",
      " - http://www.w3.org/2004/02/skos/core#note\n",
      " - http://purl.org/ASN/schema/core/publicationStatus\n",
      " - http://purl.org/dc/elements/1.1/publisher\n",
      " - http://purl.org/ASN/schema/core/repositoryDate\n",
      " - http://purl.org/dc/terms/rights\n",
      " - http://purl.org/dc/terms/rightsHolder\n",
      " - http://purl.org/dc/terms/source\n",
      " - http://purl.org/dc/terms/subject\n",
      " - http://purl.org/dc/elements/1.1/title\n"
     ]
    }
   ],
   "source": []
  },
  {
   "cell_type": "code",
   "execution_count": 17,
   "metadata": {},
   "outputs": [
    {
     "data": {
      "text/plain": [
       "dict_keys(['id', 'resourceLabel', 'resourceURI', 'propertyTemplates'])"
      ]
     },
     "execution_count": 17,
     "metadata": {},
     "output_type": "execute_result"
    }
   ],
   "source": [
    "doc.keys()"
   ]
  },
  {
   "cell_type": "code",
   "execution_count": 26,
   "metadata": {},
   "outputs": [],
   "source": [
    "import rdflib\n",
    "from rdflib import Graph\n",
    "from rdflib.namespace import NamespaceManager\n",
    "g = Graph()\n",
    "\n",
    "NSs = [\n",
    " ('xml', rdflib.term.URIRef('http://www.w3.org/XML/1998/namespace')),\n",
    " ('rdf', rdflib.term.URIRef('http://www.w3.org/1999/02/22-rdf-syntax-ns#')),\n",
    " ('rdfs', rdflib.term.URIRef('http://www.w3.org/2000/01/rdf-schema#')),\n",
    " ('xsd', rdflib.term.URIRef('http://www.w3.org/2001/XMLSchema#')),\n",
    " ('asn', rdflib.term.URIRef('http://purl.org/ASN/schema/core/')),\n",
    " ('dc', rdflib.term.URIRef('http://purl.org/dc/elements/1.1/')),\n",
    " ('dcterms', rdflib.term.URIRef('http://purl.org/dc/terms/')),\n",
    " ('loc', rdflib.term.URIRef('http://www.loc.gov/loc.terms/relators/')),\n",
    " ('skos', rdflib.term.URIRef('http://www.w3.org/2004/02/skos/core#')),\n",
    " ('owl', rdflib.term.URIRef('http://www.w3.org/2002/07/owl#')),\n",
    " ('schema', rdflib.term.URIRef('http://schema.org/')),\n",
    " ('vann', rdflib.term.URIRef('http://purl.org/vocab/vann/'))\n",
    "]\n",
    "\n",
    "for alias, nsuri in NSs:\n",
    "    g.bind(alias, nsuri)"
   ]
  },
  {
   "cell_type": "code",
   "execution_count": 27,
   "metadata": {},
   "outputs": [
    {
     "data": {
      "text/plain": [
       "'asn:alignFrom'"
      ]
     },
     "execution_count": 27,
     "metadata": {},
     "output_type": "execute_result"
    }
   ],
   "source": [
    "g.namespace_manager.normalizeUri('http://purl.org/ASN/schema/core/alignFrom')"
   ]
  },
  {
   "cell_type": "code",
   "execution_count": 30,
   "metadata": {},
   "outputs": [
    {
     "name": "stdout",
     "output_type": "stream",
     "text": [
      "doc asn:StandardDocument Standard Document\n",
      "asn:alignFrom\tresource\n",
      "asn:alignTo\tresource\n",
      "loc:AUT\tliteral\n",
      "dcterms:dateCopyrighted\tliteral\n",
      "dcterms:dateValid\tliteral\n",
      "<http://purl.org/dc/term/description>\tliteral\n",
      "dcterms:educationLevel\tresource\n",
      "<http://purl.org/gem/qualifiers/hasChild>\tresource\n",
      "<http://purl.org/gem/qualifiers/identifier>\tliteral\n",
      "asn:jurisdiction\tresource\n",
      "dc:language\tresource\n",
      "dcterms:license\tresource\n",
      "asn:localSubject\tliteral\n",
      "skos:note\tliteral\n",
      "asn:publicationStatus\tresource\n",
      "dc:publisher\tliteral\n",
      "asn:repositoryDate\tliteral\n",
      "dcterms:rights\tliteral\n",
      "dcterms:rightsHolder\tliteral\n",
      "dcterms:source\tliteral\n",
      "dcterms:subject\tresource\n",
      "dc:title\tliteral\n"
     ]
    }
   ],
   "source": [
    "doc = profile['resourceTemplates'][0]\n",
    "print('doc', doc['id'], doc['resourceLabel'])\n",
    "for prop_templ in doc['propertyTemplates']:\n",
    "    prop_name = g.namespace_manager.normalizeUri(prop_templ['propertyURI'])\n",
    "    print(prop_name + '\\t' + prop_templ['type'])\n",
    "    # print('     ', prop_templ.get('valueConstraint'))\n"
   ]
  },
  {
   "cell_type": "code",
   "execution_count": 32,
   "metadata": {},
   "outputs": [
    {
     "name": "stdout",
     "output_type": "stream",
     "text": [
      "statement http://purl.org/ASN/schema/core/Statement Statement\n",
      "asn:alignFrom\tresource\n",
      "      {'valueTemplateRefs': ['asn:Statement']}\n",
      "asn:alignto\tresource\n",
      "      {'valueTemplateRefs': ['http://purl.org/ASN/schema/core/Statement']}\n",
      "asn:altStatementNotation\tliteral\n",
      "      None\n",
      "loc:AUT\tliteral\n",
      "      None\n",
      "asn:authorityStatus\tresource\n",
      "      {'repeatable': 'false', 'mandatory': 'true', 'usesValuesFrom': ['http://purl.org/ASN/scheme/ASNAuthorityStatus/']}\n",
      "asn:broadAlignment\tresource\n",
      "      {'valueTemplateRefs': ['http://purl.org/ASN/schema/core/Statement']}\n",
      "asn:comment\tliteral\n",
      "      {'valueLanguage': 'en'}\n",
      "asn:comprisedOf\tresource\n",
      "      None\n",
      "asn:conceptKeyword\tliteral\n",
      "      {'valueLanguage': 'en'}\n",
      "asn:conceptTerm\tresource\n",
      "      {'repeatable': 'true', 'mandatory': 'false', 'usesValuesFrom': ['http://vocabulary.curriculum.edu.au/scot/', 'http://dbpedia.org/resource/', 'https://www.freebase.com/', 'http://id.loc.gov/authorities/subjects/', 'http://id.loc.gov/authorities/names/', 'http://viaf.org/viaf/', 'http://vocab.getty.edu/tgn/', 'http://vocab.getty.edu/att/', 'http://vocab.getty.edu/ulan/']}\n",
      "asn:crossSubjectReference\tresource\n",
      "      {'valueTemplateRefs': ['asn:Statement']}\n",
      "asn:derivedFrom\tresource\n",
      "      {'valueTemplateRefs': ['asn:Statement']}\n",
      "<http://purl.org/dc/term/description>\tliteral\n",
      "      {'valueLanguage': 'en'}\n",
      "dcterms:educationLevel\tresource\n",
      "      {'repeatable': 'true', 'mandatory': 'true', 'usesValuesFrom': ['http://purl.org/ASN/scheme/ASNEducationLevel/']}\n",
      "asn:exactAlignment\tresource\n",
      "      {'valueTemplateRefs': ['asn:Statement']}\n",
      "skos:exactMatch\tresource\n",
      "      {'valueTemplateRefs': ['http://purl.org/ASN/schema/core/Statement']}\n",
      "<http://purl.org/gem/qualifiers/hasChild>\tresource\n",
      "      {'valueTemplateRefs': ['asn:Statement']}\n",
      "asn:indexingStatus\tresource\n",
      "      {'repeatable': 'true', 'mandatory': 'true', 'usesValuesFrom': ['http://purl.org/ASN/scheme/ASNIndexingStatus/']}\n",
      "<http://purl.org/gem/qualifiers/isChildOf>\tresource\n",
      "      {'valueTemplateRefs': ['asn:Statement', 'asn:StandardSocument']}\n",
      "<http://purl.org/gem/qualifiers/isChildOf>\tresource\n",
      "      {'valueTemplateRefs': ['asn:StandardDocument']}\n",
      "dcterms:isVersionOf\tresource\n",
      "      {'valueTemplateRefs': ['asn:Statement']}\n",
      "dc:language\tresource\n",
      "      {'repeatable': 'false', 'mandatory': 'true', 'usesValuesFrom': ['http://id.loc.gov/vocabulary/iso639-1/'], 'defaultURI': 'http://id.loc.gov/vocabulary/iso639-1/en'}\n",
      "asn:listID\tliteral\n",
      "      None\n",
      "asn:localSubject\tliteral\n",
      "      {'valueLanguage': 'en'}\n",
      "asn:majorAlignment\tresource\n",
      "      {'valueTemplateRefs': ['asn:Statement']}\n",
      "asn:minorAlignment\tresource\n",
      "      {'valueTemplateRefs': ['asn:Statement']}\n",
      "asn:narrowAlignment\tresource\n",
      "      {'valueTemplateRefs': ['asn:Statement']}\n",
      "asn:skillEmbodied\tresource\n",
      "      {'repeatable': 'true', 'mandatory': 'false', 'usesValuesFrom': ['http://purl.org/ASN/schema/core/SkillsEmbodied']}\n",
      "dcterms:spatial\tliteral\n",
      "      {'valueDataType': {'resourceURI': 'http://www.w3.org/2001/XMLSchema#date', 'valueLabel': 'ISO 8601'}}\n",
      "asn:statementLabel\tliteral\n",
      "      {'valueLanguage': 'en'}\n",
      "asn:statementNotation\tliteral\n",
      "      None\n",
      "dcterms:subject\tresource\n",
      "      {'repeatable': 'false', 'mandatory': 'true', 'usesValuesFrom': ['http://purl.org/ASN/scheme/ASNTopics/']}\n"
     ]
    }
   ],
   "source": [
    "statement = profile['resourceTemplates'][1]\n",
    "print('statement', statement['id'], statement['resourceLabel'])\n",
    "for prop_templ in statement['propertyTemplates']:\n",
    "    prop_name = g.namespace_manager.normalizeUri(prop_templ['propertyURI'])\n",
    "    print(prop_name + '\\t' + prop_templ['type'])\n",
    "    print('     ', prop_templ.get('valueConstraint'))\n"
   ]
  },
  {
   "cell_type": "code",
   "execution_count": null,
   "metadata": {},
   "outputs": [],
   "source": []
  }
 ],
 "metadata": {
  "kernelspec": {
   "display_name": "Python 3",
   "language": "python",
   "name": "python3"
  },
  "language_info": {
   "codemirror_mode": {
    "name": "ipython",
    "version": 3
   },
   "file_extension": ".py",
   "mimetype": "text/x-python",
   "name": "python",
   "nbconvert_exporter": "python",
   "pygments_lexer": "ipython3",
   "version": "3.6.9"
  }
 },
 "nbformat": 4,
 "nbformat_minor": 2
}
