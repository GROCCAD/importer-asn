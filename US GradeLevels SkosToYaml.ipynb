{
 "cells": [
  {
   "cell_type": "code",
   "execution_count": 1,
   "metadata": {},
   "outputs": [],
   "source": [
    "import requests\n",
    "import rdflib\n",
    "from rdflib import Graph\n",
    "from itertools import groupby\n",
    "\n",
    "from rdfutils import get_vocab_props, get_terms_props\n",
    "from rdfutils import skos_to_terms\n"
   ]
  },
  {
   "cell_type": "code",
   "execution_count": 2,
   "metadata": {},
   "outputs": [
    {
     "data": {
      "text/plain": [
       "<Graph identifier=N83958c4b26dd44cdb2e0c29da9e9f6bd (<class 'rdflib.graph.Graph'>)>"
      ]
     },
     "execution_count": 2,
     "metadata": {},
     "output_type": "execute_result"
    }
   ],
   "source": [
    "skos_sample = 'http://s3.amazonaws.com/jestaticd2l/purl/scheme/ASNEducationLevel'\n",
    "g = Graph()\n",
    "g.parse(skos_sample, format='xml')\n",
    "\n"
   ]
  },
  {
   "cell_type": "code",
   "execution_count": 3,
   "metadata": {},
   "outputs": [
    {
     "name": "stdout",
     "output_type": "stream",
     "text": [
      "found concept_scheme= http://purl.org/ASN/scheme/ASNEducationLevel/\n",
      "found 26 concepts\n"
     ]
    }
   ],
   "source": [
    "vocab_data = skos_to_terms(g)"
   ]
  },
  {
   "cell_type": "code",
   "execution_count": 16,
   "metadata": {},
   "outputs": [],
   "source": [
    "# vocab_data"
   ]
  },
  {
   "cell_type": "code",
   "execution_count": 5,
   "metadata": {},
   "outputs": [
    {
     "name": "stdout",
     "output_type": "stream",
     "text": [
      "type: ControlledVocabulary\n",
      "name: ASNEducationLevel\n",
      "uri: http://purl.org/ASN/scheme/ASNEducationLevel/\n",
      "description: This vocabulary defines education levels for pre-kindergarten through\n",
      "  grade 12 for the United States. It also defines general categories for post-secondary\n",
      "  education (vocational, professional and life-long learning).\n",
      "title: U.S. Education Level Vocabulary\n",
      "terms:\n",
      "- term: '10'\n",
      "  label: '10'\n",
      "  alt_label: Tenth Grade\n",
      "  definition: null\n",
      "  source_uri: http://purl.org/ASN/scheme/ASNEducationLevel/10\n",
      "- term: Graduate\n",
      "  label: Graduate\n",
      "  alt_label: null\n",
      "  definition: null\n",
      "  source_uri: http://purl.org/ASN/scheme/ASNEducationLevel/Graduate\n",
      "- term: Undergraduate-UpperDivision\n",
      "  label: Undergraduate (Upper Division)\n",
      "  alt_label: Four Year College\n",
      "  definition: null\n",
      "  source_uri: http://purl.org/ASN/scheme/ASNEducationLevel/Undergraduate-UpperDivision\n",
      "- term: '12'\n",
      "  label: '12'\n",
      "  alt_label: Twelfth Grade\n",
      "  definition: null\n",
      "  source_uri: http://purl.org/ASN/scheme/ASNEducationLevel/12\n",
      "- term: HighSchool\n",
      "  label: High School\n",
      "  alt_label: null\n",
      "  definition: null\n",
      "  source_uri: http://purl.org/ASN/scheme/ASNEducationLevel/HighSchool\n",
      "- term: '7'\n",
      "  label: '7'\n",
      "  alt_label: Seventh Grade\n",
      "  definition: null\n",
      "  source_uri: http://purl.org/ASN/scheme/ASNEducationLevel/7\n",
      "- term: '9'\n",
      "  label: '9'\n",
      "  alt_label: Ninth Grade\n",
      "  definition: null\n",
      "  source_uri: http://purl.org/ASN/scheme/ASNEducationLevel/9\n",
      "- term: '1'\n",
      "  label: '1'\n",
      "  alt_label: First Grade\n",
      "  definition: null\n",
      "  source_uri: http://purl.org/ASN/scheme/ASNEducationLevel/1\n",
      "- term: ElementarySchool\n",
      "  label: Elementary School\n",
      "  alt_label: null\n",
      "  definition: null\n",
      "  source_uri: http://purl.org/ASN/scheme/ASNEducationLevel/ElementarySchool\n",
      "- term: HigherEducation\n",
      "  label: Higher Education\n",
      "  alt_label: College\n",
      "  definition: null\n",
      "  source_uri: http://purl.org/ASN/scheme/ASNEducationLevel/HigherEducation\n",
      "- term: Undergraduate-LowerDivision\n",
      "  label: Undergraduate (Lower Division)\n",
      "  alt_label: Two Year College\n",
      "  definition: null\n",
      "  source_uri: http://purl.org/ASN/scheme/ASNEducationLevel/Undergraduate-LowerDivision\n",
      "- term: '11'\n",
      "  label: '11'\n",
      "  alt_label: Eleventh Grade\n",
      "  definition: null\n",
      "  source_uri: http://purl.org/ASN/scheme/ASNEducationLevel/11\n",
      "- term: '6'\n",
      "  label: '6'\n",
      "  alt_label: Sixth Grade\n",
      "  definition: null\n",
      "  source_uri: http://purl.org/ASN/scheme/ASNEducationLevel/6\n",
      "- term: MiddleSchool\n",
      "  label: Middle School\n",
      "  alt_label: null\n",
      "  definition: null\n",
      "  source_uri: http://purl.org/ASN/scheme/ASNEducationLevel/MiddleSchool\n",
      "- term: '8'\n",
      "  label: '8'\n",
      "  alt_label: Eighth Grade\n",
      "  definition: null\n",
      "  source_uri: http://purl.org/ASN/scheme/ASNEducationLevel/8\n",
      "- term: PreKto12\n",
      "  label: Pre-K to 12\n",
      "  alt_label: null\n",
      "  definition: null\n",
      "  source_uri: http://purl.org/ASN/scheme/ASNEducationLevel/PreKto12\n",
      "- term: '5'\n",
      "  label: '5'\n",
      "  alt_label: Fifth Grade\n",
      "  definition: null\n",
      "  source_uri: http://purl.org/ASN/scheme/ASNEducationLevel/5\n",
      "- term: K\n",
      "  label: K\n",
      "  alt_label: Kindergarten\n",
      "  definition: null\n",
      "  source_uri: http://purl.org/ASN/scheme/ASNEducationLevel/K\n",
      "- term: VocationalTraining\n",
      "  label: Vocational Training\n",
      "  alt_label: null\n",
      "  definition: null\n",
      "  source_uri: http://purl.org/ASN/scheme/ASNEducationLevel/VocationalTraining\n",
      "- term: '4'\n",
      "  label: '4'\n",
      "  alt_label: Fourth Grade\n",
      "  definition: null\n",
      "  source_uri: http://purl.org/ASN/scheme/ASNEducationLevel/4\n",
      "- term: ProfessionalEducation-Development\n",
      "  label: Professional Education & Further Development\n",
      "  alt_label: null\n",
      "  definition: null\n",
      "  source_uri: http://purl.org/ASN/scheme/ASNEducationLevel/ProfessionalEducation-Development\n",
      "- term: '2'\n",
      "  label: '2'\n",
      "  alt_label: Second Grade\n",
      "  definition: null\n",
      "  source_uri: http://purl.org/ASN/scheme/ASNEducationLevel/2\n",
      "- term: AdultEducation\n",
      "  label: Adult Education\n",
      "  alt_label: null\n",
      "  definition: null\n",
      "  source_uri: http://purl.org/ASN/scheme/ASNEducationLevel/AdultEducation\n",
      "- term: '3'\n",
      "  label: '3'\n",
      "  alt_label: Third Grade\n",
      "  definition: null\n",
      "  source_uri: http://purl.org/ASN/scheme/ASNEducationLevel/3\n",
      "- term: Pre-K\n",
      "  label: Pre-Kindergarten\n",
      "  alt_label: Preschool\n",
      "  definition: null\n",
      "  source_uri: http://purl.org/ASN/scheme/ASNEducationLevel/Pre-K\n",
      "- term: LifeLongLearning\n",
      "  label: Life-Long Learning\n",
      "  alt_label: null\n",
      "  definition: null\n",
      "  source_uri: http://purl.org/ASN/scheme/ASNEducationLevel/LifeLongLearning\n",
      "\n"
     ]
    }
   ],
   "source": [
    "import yaml\n",
    "print(yaml.dump(vocab_data, sort_keys=False))"
   ]
  },
  {
   "cell_type": "code",
   "execution_count": 6,
   "metadata": {},
   "outputs": [
    {
     "name": "stdout",
     "output_type": "stream",
     "text": [
      "found concept_scheme= http://purl.org/ASN/scheme/ASNEducationLevel/\n"
     ]
    },
    {
     "data": {
      "text/plain": [
       "{'uri': 'http://purl.org/ASN/scheme/ASNEducationLevel/',\n",
       " 'rdf:type': 'skos:ConceptScheme',\n",
       " 'dc:description': 'This vocabulary defines education levels for pre-kindergarten through grade 12 for the United States. It also defines general categories for post-secondary education (vocational, professional and life-long learning).',\n",
       " 'skos:hasTopConcept': '<http://purl.org/ASN/scheme/ASNEducationLevel/AdultEducation>',\n",
       " 'dc:title': 'U.S. Education Level Vocabulary',\n",
       " 'dcterms:modified': '2015-12-15',\n",
       " 'dc:creator': 'Stuart A. Sutton'}"
      ]
     },
     "execution_count": 6,
     "metadata": {},
     "output_type": "execute_result"
    }
   ],
   "source": [
    "get_vocab_props(g)"
   ]
  },
  {
   "cell_type": "code",
   "execution_count": 7,
   "metadata": {},
   "outputs": [
    {
     "name": "stdout",
     "output_type": "stream",
     "text": [
      "found 26 concepts\n"
     ]
    },
    {
     "data": {
      "text/plain": [
       "[{'uri': 'http://purl.org/ASN/scheme/ASNEducationLevel/10',\n",
       "  'rdf:type': 'skos:Concept',\n",
       "  'skos:broader': '<http://purl.org/ASN/scheme/ASNEducationLevel/HighSchool>',\n",
       "  'skos:inScheme': '<http://purl.org/ASN/scheme/ASNEducationLevel/>',\n",
       "  'skos:altLabel': 'Tenth Grade',\n",
       "  'skos:prefLabel': '10'},\n",
       " {'uri': 'http://purl.org/ASN/scheme/ASNEducationLevel/Graduate',\n",
       "  'skos:scopeNote': 'Provided in graduate schools that generally require a university diploma as a minimum condition for admission',\n",
       "  'rdf:type': 'skos:Concept',\n",
       "  'skos:inScheme': '<http://purl.org/ASN/scheme/ASNEducationLevel/>',\n",
       "  'skos:broader': '<http://purl.org/ASN/scheme/ASNEducationLevel/HigherEducation>',\n",
       "  'skos:prefLabel': 'Graduate'},\n",
       " {'uri': 'http://purl.org/ASN/scheme/ASNEducationLevel/Undergraduate-UpperDivision',\n",
       "  'skos:broader': '<http://purl.org/ASN/scheme/ASNEducationLevel/HigherEducation>',\n",
       "  'skos:inScheme': '<http://purl.org/ASN/scheme/ASNEducationLevel/>',\n",
       "  'skos:scopeNote': \"Study in an institution of higher education that precedes the bachelor's or first professional degree\",\n",
       "  'skos:altLabel': 'Four Year College',\n",
       "  'rdf:type': 'skos:Concept',\n",
       "  'skos:prefLabel': 'Undergraduate (Upper Division)'},\n",
       " {'uri': 'http://purl.org/ASN/scheme/ASNEducationLevel/12',\n",
       "  'skos:prefLabel': '12',\n",
       "  'skos:inScheme': '<http://purl.org/ASN/scheme/ASNEducationLevel/>',\n",
       "  'skos:altLabel': 'Twelfth Grade',\n",
       "  'rdf:type': 'skos:Concept',\n",
       "  'skos:broader': '<http://purl.org/ASN/scheme/ASNEducationLevel/HighSchool>'},\n",
       " {'uri': 'http://purl.org/ASN/scheme/ASNEducationLevel/HighSchool',\n",
       "  'skos:broader': '<http://purl.org/ASN/scheme/ASNEducationLevel/PreKto12>',\n",
       "  'skos:narrower': '<http://purl.org/ASN/scheme/ASNEducationLevel/9>',\n",
       "  'rdf:type': 'skos:Concept',\n",
       "  'skos:inScheme': '<http://purl.org/ASN/scheme/ASNEducationLevel/>',\n",
       "  'skos:prefLabel': 'High School'},\n",
       " {'uri': 'http://purl.org/ASN/scheme/ASNEducationLevel/7',\n",
       "  'skos:prefLabel': '7',\n",
       "  'skos:broader': '<http://purl.org/ASN/scheme/ASNEducationLevel/MiddleSchool>',\n",
       "  'skos:altLabel': 'Seventh Grade',\n",
       "  'rdf:type': 'skos:Concept',\n",
       "  'skos:inScheme': '<http://purl.org/ASN/scheme/ASNEducationLevel/>'},\n",
       " {'uri': 'http://purl.org/ASN/scheme/ASNEducationLevel/9',\n",
       "  'skos:inScheme': '<http://purl.org/ASN/scheme/ASNEducationLevel/>',\n",
       "  'skos:broader': '<http://purl.org/ASN/scheme/ASNEducationLevel/HighSchool>',\n",
       "  'skos:altLabel': 'Ninth Grade',\n",
       "  'rdf:type': 'skos:Concept',\n",
       "  'skos:prefLabel': '9'},\n",
       " {'uri': 'http://purl.org/ASN/scheme/ASNEducationLevel/1',\n",
       "  'skos:prefLabel': '1',\n",
       "  'skos:broader': '<http://purl.org/ASN/scheme/ASNEducationLevel/ElementarySchool>',\n",
       "  'skos:altLabel': 'First Grade',\n",
       "  'rdf:type': 'skos:Concept',\n",
       "  'skos:inScheme': '<http://purl.org/ASN/scheme/ASNEducationLevel/>'},\n",
       " {'uri': 'http://purl.org/ASN/scheme/ASNEducationLevel/ElementarySchool',\n",
       "  'skos:broader': '<http://purl.org/ASN/scheme/ASNEducationLevel/PreKto12>',\n",
       "  'skos:narrower': '<http://purl.org/ASN/scheme/ASNEducationLevel/3>',\n",
       "  'rdf:type': 'skos:Concept',\n",
       "  'skos:inScheme': '<http://purl.org/ASN/scheme/ASNEducationLevel/>',\n",
       "  'skos:prefLabel': 'Elementary School'},\n",
       " {'uri': 'http://purl.org/ASN/scheme/ASNEducationLevel/HigherEducation',\n",
       "  'skos:topConceptOf': '<http://purl.org/ASN/scheme/ASNEducationLevel/>',\n",
       "  'skos:narrower': '<http://purl.org/ASN/scheme/ASNEducationLevel/Graduate>',\n",
       "  'skos:inScheme': '<http://purl.org/ASN/scheme/ASNEducationLevel/>',\n",
       "  'rdf:type': 'skos:Concept',\n",
       "  'skos:prefLabel': 'Higher Education',\n",
       "  'skos:altLabel': 'College'},\n",
       " {'uri': 'http://purl.org/ASN/scheme/ASNEducationLevel/Undergraduate-LowerDivision',\n",
       "  'skos:broader': '<http://purl.org/ASN/scheme/ASNEducationLevel/HigherEducation>',\n",
       "  'rdf:type': 'skos:Concept',\n",
       "  'skos:scopeNote': 'Use also for: Public or private postsecondary institutions providing at least 2, but less than 4, years of academic and/or occupational education. Two Year Institution: An institution legally authorized to offer and offering at least a 2-year program of college-level studies which terminates in an associate degree or is principally creditable toward a baccalaureate degree.',\n",
       "  'skos:prefLabel': 'Undergraduate (Lower Division)',\n",
       "  'skos:inScheme': '<http://purl.org/ASN/scheme/ASNEducationLevel/>',\n",
       "  'skos:altLabel': 'Two Year College'},\n",
       " {'uri': 'http://purl.org/ASN/scheme/ASNEducationLevel/11',\n",
       "  'rdf:type': 'skos:Concept',\n",
       "  'skos:broader': '<http://purl.org/ASN/scheme/ASNEducationLevel/HighSchool>',\n",
       "  'skos:inScheme': '<http://purl.org/ASN/scheme/ASNEducationLevel/>',\n",
       "  'skos:altLabel': 'Eleventh Grade',\n",
       "  'skos:prefLabel': '11'},\n",
       " {'uri': 'http://purl.org/ASN/scheme/ASNEducationLevel/6',\n",
       "  'skos:broader': '<http://purl.org/ASN/scheme/ASNEducationLevel/MiddleSchool>',\n",
       "  'skos:prefLabel': '6',\n",
       "  'rdf:type': 'skos:Concept',\n",
       "  'skos:altLabel': 'Sixth Grade',\n",
       "  'skos:inScheme': '<http://purl.org/ASN/scheme/ASNEducationLevel/>'},\n",
       " {'uri': 'http://purl.org/ASN/scheme/ASNEducationLevel/MiddleSchool',\n",
       "  'skos:inScheme': '<http://purl.org/ASN/scheme/ASNEducationLevel/>',\n",
       "  'skos:broader': '<http://purl.org/ASN/scheme/ASNEducationLevel/PreKto12>',\n",
       "  'skos:prefLabel': 'Middle School',\n",
       "  'skos:narrower': '<http://purl.org/ASN/scheme/ASNEducationLevel/8>',\n",
       "  'rdf:type': 'skos:Concept'},\n",
       " {'uri': 'http://purl.org/ASN/scheme/ASNEducationLevel/8',\n",
       "  'skos:broader': '<http://purl.org/ASN/scheme/ASNEducationLevel/MiddleSchool>',\n",
       "  'skos:inScheme': '<http://purl.org/ASN/scheme/ASNEducationLevel/>',\n",
       "  'skos:altLabel': 'Eighth Grade',\n",
       "  'skos:prefLabel': '8',\n",
       "  'rdf:type': 'skos:Concept'},\n",
       " {'uri': 'http://purl.org/ASN/scheme/ASNEducationLevel/PreKto12',\n",
       "  'rdf:type': 'skos:Concept',\n",
       "  'skos:narrower': '<http://purl.org/ASN/scheme/ASNEducationLevel/HighSchool>',\n",
       "  'skos:inScheme': '<http://purl.org/ASN/scheme/ASNEducationLevel/>',\n",
       "  'skos:prefLabel': 'Pre-K to 12',\n",
       "  'skos:topConceptOf': '<http://purl.org/ASN/scheme/ASNEducationLevel/>'},\n",
       " {'uri': 'http://purl.org/ASN/scheme/ASNEducationLevel/5',\n",
       "  'rdf:type': 'skos:Concept',\n",
       "  'skos:broader': '<http://purl.org/ASN/scheme/ASNEducationLevel/ElementarySchool>',\n",
       "  'skos:inScheme': '<http://purl.org/ASN/scheme/ASNEducationLevel/>',\n",
       "  'skos:prefLabel': '5',\n",
       "  'skos:altLabel': 'Fifth Grade'},\n",
       " {'uri': 'http://purl.org/ASN/scheme/ASNEducationLevel/K',\n",
       "  'rdf:type': 'skos:Concept',\n",
       "  'skos:prefLabel': 'K',\n",
       "  'skos:scopeNote': 'A program or class for four-year-old to six-year-old children that serves as an introduction to school',\n",
       "  'skos:broader': '<http://purl.org/ASN/scheme/ASNEducationLevel/ElementarySchool>',\n",
       "  'skos:inScheme': '<http://purl.org/ASN/scheme/ASNEducationLevel/>',\n",
       "  'skos:altLabel': 'Kindergarten'},\n",
       " {'uri': 'http://purl.org/ASN/scheme/ASNEducationLevel/VocationalTraining',\n",
       "  'skos:inScheme': '<http://purl.org/ASN/scheme/ASNEducationLevel/>',\n",
       "  'skos:prefLabel': 'Vocational Training',\n",
       "  'skos:scopeNote': 'Provided in schools that focus on teaching vocational skills and frequently require no previous knowledge or experience.',\n",
       "  'rdf:type': 'skos:Concept',\n",
       "  'skos:topConceptOf': '<http://purl.org/ASN/scheme/ASNEducationLevel/>'},\n",
       " {'uri': 'http://purl.org/ASN/scheme/ASNEducationLevel/4',\n",
       "  'skos:broader': '<http://purl.org/ASN/scheme/ASNEducationLevel/ElementarySchool>',\n",
       "  'skos:altLabel': 'Fourth Grade',\n",
       "  'rdf:type': 'skos:Concept',\n",
       "  'skos:prefLabel': '4',\n",
       "  'skos:inScheme': '<http://purl.org/ASN/scheme/ASNEducationLevel/>'},\n",
       " {'uri': 'http://purl.org/ASN/scheme/ASNEducationLevel/ProfessionalEducation-Development',\n",
       "  'rdf:type': 'skos:Concept',\n",
       "  'skos:prefLabel': 'Professional Education & Further Development',\n",
       "  'skos:scopeNote': 'Provided in professional schools (or sanctioned educational activities) that generally require a university diploma as a minimum condition for admission or study.',\n",
       "  'skos:inScheme': '<http://purl.org/ASN/scheme/ASNEducationLevel/>',\n",
       "  'skos:topConceptOf': '<http://purl.org/ASN/scheme/ASNEducationLevel/>'},\n",
       " {'uri': 'http://purl.org/ASN/scheme/ASNEducationLevel/2',\n",
       "  'skos:prefLabel': '2',\n",
       "  'skos:altLabel': 'Second Grade',\n",
       "  'rdf:type': 'skos:Concept',\n",
       "  'skos:broader': '<http://purl.org/ASN/scheme/ASNEducationLevel/ElementarySchool>',\n",
       "  'skos:inScheme': '<http://purl.org/ASN/scheme/ASNEducationLevel/>'},\n",
       " {'uri': 'http://purl.org/ASN/scheme/ASNEducationLevel/AdultEducation',\n",
       "  'skos:topConceptOf': '<http://purl.org/ASN/scheme/ASNEducationLevel/>',\n",
       "  'skos:scopeNote': 'Adult Education enables adults to (1) become literate and obtain the knowledge and skills necessary for employment and self-sufficiency, (2) obtain the educational skills necessary to become full partners in the educational development of their children, and (3) complete a secondary school education and prepare for postsecondary education.',\n",
       "  'rdf:type': 'skos:Concept',\n",
       "  'skos:inScheme': '<http://purl.org/ASN/scheme/ASNEducationLevel/>',\n",
       "  'skos:prefLabel': 'Adult Education'},\n",
       " {'uri': 'http://purl.org/ASN/scheme/ASNEducationLevel/3',\n",
       "  'skos:prefLabel': '3',\n",
       "  'rdf:type': 'skos:Concept',\n",
       "  'skos:altLabel': 'Third Grade',\n",
       "  'skos:broader': '<http://purl.org/ASN/scheme/ASNEducationLevel/ElementarySchool>',\n",
       "  'skos:inScheme': '<http://purl.org/ASN/scheme/ASNEducationLevel/>'},\n",
       " {'uri': 'http://purl.org/ASN/scheme/ASNEducationLevel/Pre-K',\n",
       "  'skos:prefLabel': 'Pre-Kindergarten',\n",
       "  'skos:inScheme': '<http://purl.org/ASN/scheme/ASNEducationLevel/>',\n",
       "  'skos:scopeNote': 'Activities and/or experiences that are intended to effect developmental changes in children, from birth to entrance in kindergarten',\n",
       "  'skos:altLabel': 'Preschool',\n",
       "  'rdf:type': 'skos:Concept',\n",
       "  'skos:broader': '<http://purl.org/ASN/scheme/ASNEducationLevel/ElementarySchool>'},\n",
       " {'uri': 'http://purl.org/ASN/scheme/ASNEducationLevel/LifeLongLearning',\n",
       "  'skos:topConceptOf': '<http://purl.org/ASN/scheme/ASNEducationLevel/>',\n",
       "  'skos:prefLabel': 'Life-Long Learning',\n",
       "  'skos:scopeNote': 'A continuing process of behavioral and cognitive changes through the integration of knowledge and experience. Learning is achieved through formal and informal activities.',\n",
       "  'rdf:type': 'skos:Concept',\n",
       "  'skos:inScheme': '<http://purl.org/ASN/scheme/ASNEducationLevel/>'}]"
      ]
     },
     "execution_count": 7,
     "metadata": {},
     "output_type": "execute_result"
    }
   ],
   "source": [
    "get_terms_props(g)"
   ]
  },
  {
   "cell_type": "code",
   "execution_count": 8,
   "metadata": {},
   "outputs": [],
   "source": [
    "from rdfutils import get_types, get_subjects_by_type, TYPE_PRED, build_class_props_map\n",
    "\n"
   ]
  },
  {
   "cell_type": "code",
   "execution_count": 9,
   "metadata": {},
   "outputs": [
    {
     "data": {
      "text/plain": [
       "[rdflib.term.URIRef('http://www.w3.org/2004/02/skos/core#Concept'),\n",
       " rdflib.term.URIRef('http://www.w3.org/2004/02/skos/core#ConceptScheme')]"
      ]
     },
     "execution_count": 9,
     "metadata": {},
     "output_type": "execute_result"
    }
   ],
   "source": [
    "get_types(g)"
   ]
  },
  {
   "cell_type": "code",
   "execution_count": 10,
   "metadata": {},
   "outputs": [],
   "source": [
    "CONCEPT_PRED = get_types(g)[0]\n",
    "CONCEPT_SCHEME_PRED = get_types(g)[1]"
   ]
  },
  {
   "cell_type": "code",
   "execution_count": 11,
   "metadata": {},
   "outputs": [
    {
     "data": {
      "text/plain": [
       "rdflib.term.URIRef('http://purl.org/ASN/scheme/ASNEducationLevel/')"
      ]
     },
     "execution_count": 11,
     "metadata": {},
     "output_type": "execute_result"
    }
   ],
   "source": [
    "scheme = list(get_subjects_by_type(g, CONCEPT_SCHEME_PRED))[0]\n",
    "scheme"
   ]
  },
  {
   "cell_type": "code",
   "execution_count": 12,
   "metadata": {},
   "outputs": [
    {
     "data": {
      "text/plain": [
       "[rdflib.term.URIRef('http://purl.org/ASN/scheme/ASNEducationLevel/10'),\n",
       " rdflib.term.URIRef('http://purl.org/ASN/scheme/ASNEducationLevel/Graduate'),\n",
       " rdflib.term.URIRef('http://purl.org/ASN/scheme/ASNEducationLevel/Undergraduate-UpperDivision'),\n",
       " rdflib.term.URIRef('http://purl.org/ASN/scheme/ASNEducationLevel/12'),\n",
       " rdflib.term.URIRef('http://purl.org/ASN/scheme/ASNEducationLevel/HighSchool'),\n",
       " rdflib.term.URIRef('http://purl.org/ASN/scheme/ASNEducationLevel/7'),\n",
       " rdflib.term.URIRef('http://purl.org/ASN/scheme/ASNEducationLevel/9'),\n",
       " rdflib.term.URIRef('http://purl.org/ASN/scheme/ASNEducationLevel/1'),\n",
       " rdflib.term.URIRef('http://purl.org/ASN/scheme/ASNEducationLevel/ElementarySchool'),\n",
       " rdflib.term.URIRef('http://purl.org/ASN/scheme/ASNEducationLevel/HigherEducation'),\n",
       " rdflib.term.URIRef('http://purl.org/ASN/scheme/ASNEducationLevel/Undergraduate-LowerDivision'),\n",
       " rdflib.term.URIRef('http://purl.org/ASN/scheme/ASNEducationLevel/11'),\n",
       " rdflib.term.URIRef('http://purl.org/ASN/scheme/ASNEducationLevel/6'),\n",
       " rdflib.term.URIRef('http://purl.org/ASN/scheme/ASNEducationLevel/MiddleSchool'),\n",
       " rdflib.term.URIRef('http://purl.org/ASN/scheme/ASNEducationLevel/8'),\n",
       " rdflib.term.URIRef('http://purl.org/ASN/scheme/ASNEducationLevel/PreKto12'),\n",
       " rdflib.term.URIRef('http://purl.org/ASN/scheme/ASNEducationLevel/5'),\n",
       " rdflib.term.URIRef('http://purl.org/ASN/scheme/ASNEducationLevel/K'),\n",
       " rdflib.term.URIRef('http://purl.org/ASN/scheme/ASNEducationLevel/VocationalTraining'),\n",
       " rdflib.term.URIRef('http://purl.org/ASN/scheme/ASNEducationLevel/4'),\n",
       " rdflib.term.URIRef('http://purl.org/ASN/scheme/ASNEducationLevel/ProfessionalEducation-Development'),\n",
       " rdflib.term.URIRef('http://purl.org/ASN/scheme/ASNEducationLevel/2'),\n",
       " rdflib.term.URIRef('http://purl.org/ASN/scheme/ASNEducationLevel/AdultEducation'),\n",
       " rdflib.term.URIRef('http://purl.org/ASN/scheme/ASNEducationLevel/3'),\n",
       " rdflib.term.URIRef('http://purl.org/ASN/scheme/ASNEducationLevel/Pre-K'),\n",
       " rdflib.term.URIRef('http://purl.org/ASN/scheme/ASNEducationLevel/LifeLongLearning')]"
      ]
     },
     "execution_count": 12,
     "metadata": {},
     "output_type": "execute_result"
    }
   ],
   "source": [
    "list(get_subjects_by_type(g, CONCEPT_PRED))"
   ]
  },
  {
   "cell_type": "code",
   "execution_count": 13,
   "metadata": {},
   "outputs": [
    {
     "data": {
      "text/plain": [
       "[(rdflib.term.URIRef('http://www.w3.org/1999/02/22-rdf-syntax-ns#type'),\n",
       "  rdflib.term.URIRef('http://www.w3.org/2004/02/skos/core#ConceptScheme')),\n",
       " (rdflib.term.URIRef('http://purl.org/dc/elements/1.1/description'),\n",
       "  rdflib.term.Literal('This vocabulary defines education levels for pre-kindergarten through grade 12 for the United States. It also defines general categories for post-secondary education (vocational, professional and life-long learning).', lang='en-US')),\n",
       " (rdflib.term.URIRef('http://www.w3.org/2004/02/skos/core#hasTopConcept'),\n",
       "  rdflib.term.URIRef('http://purl.org/ASN/scheme/ASNEducationLevel/ProfessionalEducation-Development')),\n",
       " (rdflib.term.URIRef('http://purl.org/dc/elements/1.1/title'),\n",
       "  rdflib.term.Literal('U.S. Education Level Vocabulary', lang='en-US')),\n",
       " (rdflib.term.URIRef('http://purl.org/dc/terms/modified'),\n",
       "  rdflib.term.Literal('2015-12-15', datatype=rdflib.term.URIRef('http://purl.org/dc/terms/W3CDTF'))),\n",
       " (rdflib.term.URIRef('http://www.w3.org/2004/02/skos/core#hasTopConcept'),\n",
       "  rdflib.term.URIRef('http://purl.org/ASN/scheme/ASNEducationLevel/VocationalTraining')),\n",
       " (rdflib.term.URIRef('http://www.w3.org/2004/02/skos/core#hasTopConcept'),\n",
       "  rdflib.term.URIRef('http://purl.org/ASN/scheme/ASNEducationLevel/LifeLongLearning')),\n",
       " (rdflib.term.URIRef('http://www.w3.org/2004/02/skos/core#hasTopConcept'),\n",
       "  rdflib.term.URIRef('http://purl.org/ASN/scheme/ASNEducationLevel/HigherEducation')),\n",
       " (rdflib.term.URIRef('http://www.w3.org/2004/02/skos/core#hasTopConcept'),\n",
       "  rdflib.term.URIRef('http://purl.org/ASN/scheme/ASNEducationLevel/PreKto12')),\n",
       " (rdflib.term.URIRef('http://www.w3.org/2004/02/skos/core#hasTopConcept'),\n",
       "  rdflib.term.URIRef('http://purl.org/ASN/scheme/ASNEducationLevel/AdultEducation')),\n",
       " (rdflib.term.URIRef('http://purl.org/dc/elements/1.1/creator'),\n",
       "  rdflib.term.Literal('Stuart A. Sutton', lang='en-US'))]"
      ]
     },
     "execution_count": 13,
     "metadata": {},
     "output_type": "execute_result"
    }
   ],
   "source": [
    "list(g.predicate_objects(subject=scheme))"
   ]
  },
  {
   "cell_type": "code",
   "execution_count": 14,
   "metadata": {},
   "outputs": [
    {
     "data": {
      "text/plain": [
       "[('xml', rdflib.term.URIRef('http://www.w3.org/XML/1998/namespace')),\n",
       " ('rdf', rdflib.term.URIRef('http://www.w3.org/1999/02/22-rdf-syntax-ns#')),\n",
       " ('rdfs', rdflib.term.URIRef('http://www.w3.org/2000/01/rdf-schema#')),\n",
       " ('xsd', rdflib.term.URIRef('http://www.w3.org/2001/XMLSchema#')),\n",
       " ('dc', rdflib.term.URIRef('http://purl.org/dc/elements/1.1/')),\n",
       " ('dcterms', rdflib.term.URIRef('http://purl.org/dc/terms/')),\n",
       " ('skos', rdflib.term.URIRef('http://www.w3.org/2004/02/skos/core#'))]"
      ]
     },
     "execution_count": 14,
     "metadata": {},
     "output_type": "execute_result"
    }
   ],
   "source": [
    "list(g.namespaces())"
   ]
  },
  {
   "cell_type": "code",
   "execution_count": 15,
   "metadata": {},
   "outputs": [
    {
     "data": {
      "text/plain": [
       "'2009-02-12'"
      ]
     },
     "execution_count": 15,
     "metadata": {},
     "output_type": "execute_result"
    }
   ],
   "source": [
    "# dates as STR\n",
    "l = rdflib.term.Literal('2009-02-12', datatype=rdflib.term.URIRef('http://purl.org/dc/terms/W3CDTF'))\n",
    "str(l)"
   ]
  },
  {
   "cell_type": "code",
   "execution_count": null,
   "metadata": {},
   "outputs": [],
   "source": []
  }
 ],
 "metadata": {
  "kernelspec": {
   "display_name": "Python 3",
   "language": "python",
   "name": "python3"
  },
  "language_info": {
   "codemirror_mode": {
    "name": "ipython",
    "version": 3
   },
   "file_extension": ".py",
   "mimetype": "text/x-python",
   "name": "python",
   "nbconvert_exporter": "python",
   "pygments_lexer": "ipython3",
   "version": "3.6.9"
  }
 },
 "nbformat": 4,
 "nbformat_minor": 4
}
