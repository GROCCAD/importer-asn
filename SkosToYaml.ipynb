{
 "cells": [
  {
   "cell_type": "code",
   "execution_count": 1,
   "metadata": {},
   "outputs": [],
   "source": [
    "import requests\n",
    "import rdflib\n",
    "from rdflib import Graph\n",
    "from itertools import groupby\n",
    "\n",
    "from rdfutils import get_vocab_props, get_terms_props\n",
    "from rdfutils import skos_to_terms\n"
   ]
  },
  {
   "cell_type": "code",
   "execution_count": 2,
   "metadata": {},
   "outputs": [
    {
     "data": {
      "text/plain": [
       "<Graph identifier=Na66180bd51ab4df6a1a25b3e92de06fc (<class 'rdflib.graph.Graph'>)>"
      ]
     },
     "execution_count": 2,
     "metadata": {},
     "output_type": "execute_result"
    }
   ],
   "source": [
    "skos_sample = 'http://s3.amazonaws.com/jestaticd2l/purl/scheme/ASNPublicationStatus'\n",
    "g = Graph()\n",
    "g.parse(skos_sample, format='xml')\n",
    "\n"
   ]
  },
  {
   "cell_type": "code",
   "execution_count": 3,
   "metadata": {},
   "outputs": [
    {
     "name": "stdout",
     "output_type": "stream",
     "text": [
      "found concept_scheme= http://purl.org/ASN/scheme/ASNPublicationStatus/\n",
      "found 3 concepts\n"
     ]
    }
   ],
   "source": [
    "vocab_data = skos_to_terms(g)"
   ]
  },
  {
   "cell_type": "code",
   "execution_count": 4,
   "metadata": {},
   "outputs": [
    {
     "name": "stdout",
     "output_type": "stream",
     "text": [
      "type: ControlledVocabulary\n",
      "name: ASNPublicationStatus\n",
      "uri: http://purl.org/ASN/scheme/ASNPublicationStatus/\n",
      "description: A vocabulary describing the various publication statuses of ASN documents\n",
      "  and statements.\n",
      "title: ASN Publication Status Vocabulary\n",
      "terms:\n",
      "- term: Deprecated\n",
      "  label: Deprecated\n",
      "  definition: Status assigned to a document/statement by the promulgating agency or\n",
      "    by the ASN Directorate on request of the promulgating agency asserting that the\n",
      "    document/statement has been superseded or its use otherwise disfavored. Documents/statements\n",
      "    are never removed from the ASN and never become dereferencable.\n",
      "  source_uri: http://purl.org/ASN/scheme/ASNPublicationStatus/Deprecated\n",
      "- term: Draft\n",
      "  label: Draft\n",
      "  definition: A status assigned to all documents/statements during development. Draft\n",
      "    documents and statements should not be displayed to anyone other than their owners\n",
      "    and ASN Directorate administrators.\n",
      "  source_uri: http://purl.org/ASN/scheme/ASNPublicationStatus/Draft\n",
      "- term: Published\n",
      "  label: Published\n",
      "  definition: Status assigned to all documents that have been submitted by their owners\n",
      "    to the ASN Directorate and, upon  quality review, published.\n",
      "  source_uri: http://purl.org/ASN/scheme/ASNPublicationStatus/Published\n",
      "\n"
     ]
    }
   ],
   "source": [
    "import yaml\n",
    "print(yaml.dump(vocab_data, sort_keys=False))"
   ]
  },
  {
   "cell_type": "code",
   "execution_count": 5,
   "metadata": {},
   "outputs": [
    {
     "name": "stdout",
     "output_type": "stream",
     "text": [
      "found concept_scheme= http://purl.org/ASN/scheme/ASNPublicationStatus/\n"
     ]
    },
    {
     "data": {
      "text/plain": [
       "{'uri': 'http://purl.org/ASN/scheme/ASNPublicationStatus/',\n",
       " 'dc:title': 'ASN Publication Status Vocabulary',\n",
       " 'skos:hasTopConcept': '<http://purl.org/ASN/scheme/ASNPublicationStatus/Deprecated>',\n",
       " 'dc:description': 'A vocabulary describing the various publication statuses of ASN documents and statements.',\n",
       " 'dcterms:modified': '2015-01-07',\n",
       " 'dcterms:created': '2009-02-12',\n",
       " 'dc:creator': 'Stuart A. Sutton',\n",
       " 'rdf:type': 'skos:ConceptScheme'}"
      ]
     },
     "execution_count": 5,
     "metadata": {},
     "output_type": "execute_result"
    }
   ],
   "source": [
    "get_vocab_props(g)"
   ]
  },
  {
   "cell_type": "code",
   "execution_count": 4,
   "metadata": {},
   "outputs": [
    {
     "name": "stdout",
     "output_type": "stream",
     "text": [
      "found concepts= [rdflib.term.URIRef('http://purl.org/ASN/scheme/ASNPublicationStatus/Published'), rdflib.term.URIRef('http://purl.org/ASN/scheme/ASNPublicationStatus/Deprecated'), rdflib.term.URIRef('http://purl.org/ASN/scheme/ASNPublicationStatus/Draft')]\n"
     ]
    },
    {
     "data": {
      "text/plain": [
       "[{'rdf:type': 'skos:Concept',\n",
       "  'skos:prefLabel': 'Published',\n",
       "  'skos:definition': 'Status assigned to all documents that have been submitted by their owners to the ASN Directorate and, upon  quality review, published.',\n",
       "  'skos:topConceptOf': '<http://purl.org/ASN/scheme/ASNPublicationStatus/>',\n",
       "  'skos:inScheme': '<http://purl.org/ASN/scheme/ASNPublicationStatus/>'},\n",
       " {'skos:prefLabel': 'Deprecated',\n",
       "  'skos:definition': 'Status assigned to a document/statement by the promulgating agency or by the ASN Directorate on request of the promulgating agency asserting that the document/statement has been superseded or its use otherwise disfavored. Documents/statements are never removed from the ASN and never become dereferencable.',\n",
       "  'rdf:type': 'skos:Concept',\n",
       "  'skos:topConceptOf': '<http://purl.org/ASN/scheme/ASNPublicationStatus/>',\n",
       "  'skos:inScheme': '<http://purl.org/ASN/scheme/ASNPublicationStatus/>'},\n",
       " {'skos:inScheme': '<http://purl.org/ASN/scheme/ASNPublicationStatus/>',\n",
       "  'skos:prefLabel': 'Draft',\n",
       "  'skos:definition': 'A status assigned to all documents/statements during development. Draft documents and statements should not be displayed to anyone other than their owners and ASN Directorate administrators.',\n",
       "  'skos:topConceptOf': '<http://purl.org/ASN/scheme/ASNPublicationStatus/>',\n",
       "  'rdf:type': 'skos:Concept'}]"
      ]
     },
     "execution_count": 4,
     "metadata": {},
     "output_type": "execute_result"
    }
   ],
   "source": [
    "get_terms_props(g)"
   ]
  },
  {
   "cell_type": "code",
   "execution_count": 10,
   "metadata": {},
   "outputs": [],
   "source": [
    "from rdfutils import get_types, get_subjects_by_type, TYPE_PRED, build_class_props_map\n",
    "\n"
   ]
  },
  {
   "cell_type": "code",
   "execution_count": 11,
   "metadata": {},
   "outputs": [
    {
     "data": {
      "text/plain": [
       "[rdflib.term.URIRef('http://www.w3.org/2004/02/skos/core#Concept'),\n",
       " rdflib.term.URIRef('http://www.w3.org/2004/02/skos/core#ConceptScheme')]"
      ]
     },
     "execution_count": 11,
     "metadata": {},
     "output_type": "execute_result"
    }
   ],
   "source": [
    "get_types(g)"
   ]
  },
  {
   "cell_type": "code",
   "execution_count": 12,
   "metadata": {},
   "outputs": [],
   "source": [
    "CONCEPT_PRED = get_types(g)[0]\n",
    "CONCEPT_SCHEME_PRED = get_types(g)[1]"
   ]
  },
  {
   "cell_type": "code",
   "execution_count": 19,
   "metadata": {},
   "outputs": [
    {
     "data": {
      "text/plain": [
       "rdflib.term.URIRef('http://purl.org/ASN/scheme/ASNPublicationStatus/')"
      ]
     },
     "execution_count": 19,
     "metadata": {},
     "output_type": "execute_result"
    }
   ],
   "source": [
    "scheme = list(get_subjects_by_type(g, CONCEPT_SCHEME_PRED))[0]\n",
    "scheme"
   ]
  },
  {
   "cell_type": "code",
   "execution_count": 20,
   "metadata": {},
   "outputs": [
    {
     "data": {
      "text/plain": [
       "[rdflib.term.URIRef('http://purl.org/ASN/scheme/ASNPublicationStatus/Deprecated'),\n",
       " rdflib.term.URIRef('http://purl.org/ASN/scheme/ASNPublicationStatus/Draft'),\n",
       " rdflib.term.URIRef('http://purl.org/ASN/scheme/ASNPublicationStatus/Published')]"
      ]
     },
     "execution_count": 20,
     "metadata": {},
     "output_type": "execute_result"
    }
   ],
   "source": [
    "list(get_subjects_by_type(g, CONCEPT_PRED))"
   ]
  },
  {
   "cell_type": "code",
   "execution_count": 24,
   "metadata": {},
   "outputs": [
    {
     "data": {
      "text/plain": [
       "[(rdflib.term.URIRef('http://purl.org/dc/elements/1.1/title'),\n",
       "  rdflib.term.Literal('ASN Publication Status Vocabulary', lang='en-US')),\n",
       " (rdflib.term.URIRef('http://www.w3.org/2004/02/skos/core#hasTopConcept'),\n",
       "  rdflib.term.URIRef('http://purl.org/ASN/scheme/ASNPublicationStatus/Published')),\n",
       " (rdflib.term.URIRef('http://www.w3.org/2004/02/skos/core#hasTopConcept'),\n",
       "  rdflib.term.URIRef('http://purl.org/ASN/scheme/ASNPublicationStatus/Draft')),\n",
       " (rdflib.term.URIRef('http://purl.org/dc/elements/1.1/description'),\n",
       "  rdflib.term.Literal('A vocabulary describing the various publication statuses of ASN documents and statements.', lang='en-US')),\n",
       " (rdflib.term.URIRef('http://purl.org/dc/terms/modified'),\n",
       "  rdflib.term.Literal('2015-01-07', datatype=rdflib.term.URIRef('http://purl.org/dc/terms/W3CDTF'))),\n",
       " (rdflib.term.URIRef('http://purl.org/dc/terms/created'),\n",
       "  rdflib.term.Literal('2009-02-12', datatype=rdflib.term.URIRef('http://purl.org/dc/terms/W3CDTF'))),\n",
       " (rdflib.term.URIRef('http://www.w3.org/2004/02/skos/core#hasTopConcept'),\n",
       "  rdflib.term.URIRef('http://purl.org/ASN/scheme/ASNPublicationStatus/Deprecated')),\n",
       " (rdflib.term.URIRef('http://purl.org/dc/elements/1.1/creator'),\n",
       "  rdflib.term.Literal('Stuart A. Sutton', lang='en-US')),\n",
       " (rdflib.term.URIRef('http://www.w3.org/1999/02/22-rdf-syntax-ns#type'),\n",
       "  rdflib.term.URIRef('http://www.w3.org/2004/02/skos/core#ConceptScheme'))]"
      ]
     },
     "execution_count": 24,
     "metadata": {},
     "output_type": "execute_result"
    }
   ],
   "source": [
    "list(g.predicate_objects(subject=scheme))"
   ]
  },
  {
   "cell_type": "code",
   "execution_count": 34,
   "metadata": {},
   "outputs": [
    {
     "data": {
      "text/plain": [
       "[('xml', rdflib.term.URIRef('http://www.w3.org/XML/1998/namespace')),\n",
       " ('rdf', rdflib.term.URIRef('http://www.w3.org/1999/02/22-rdf-syntax-ns#')),\n",
       " ('rdfs', rdflib.term.URIRef('http://www.w3.org/2000/01/rdf-schema#')),\n",
       " ('xsd', rdflib.term.URIRef('http://www.w3.org/2001/XMLSchema#')),\n",
       " ('dc', rdflib.term.URIRef('http://purl.org/dc/elements/1.1/')),\n",
       " ('dcterms', rdflib.term.URIRef('http://purl.org/dc/terms/')),\n",
       " ('skos', rdflib.term.URIRef('http://www.w3.org/2004/02/skos/core#'))]"
      ]
     },
     "execution_count": 34,
     "metadata": {},
     "output_type": "execute_result"
    }
   ],
   "source": [
    "list(g.namespaces())"
   ]
  },
  {
   "cell_type": "code",
   "execution_count": 6,
   "metadata": {},
   "outputs": [
    {
     "data": {
      "text/plain": [
       "'2009-02-12'"
      ]
     },
     "execution_count": 6,
     "metadata": {},
     "output_type": "execute_result"
    }
   ],
   "source": [
    "# dates as STR\n",
    "l = rdflib.term.Literal('2009-02-12', datatype=rdflib.term.URIRef('http://purl.org/dc/terms/W3CDTF'))\n",
    "str(l)"
   ]
  },
  {
   "cell_type": "code",
   "execution_count": null,
   "metadata": {},
   "outputs": [],
   "source": []
  }
 ],
 "metadata": {
  "kernelspec": {
   "display_name": "Python 3",
   "language": "python",
   "name": "python3"
  },
  "language_info": {
   "codemirror_mode": {
    "name": "ipython",
    "version": 3
   },
   "file_extension": ".py",
   "mimetype": "text/x-python",
   "name": "python",
   "nbconvert_exporter": "python",
   "pygments_lexer": "ipython3",
   "version": "3.6.9"
  }
 },
 "nbformat": 4,
 "nbformat_minor": 4
}
