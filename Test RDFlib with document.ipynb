{
 "cells": [
  {
   "cell_type": "code",
   "execution_count": 1,
   "metadata": {},
   "outputs": [],
   "source": []
  },
  {
   "cell_type": "code",
   "execution_count": 71,
   "metadata": {},
   "outputs": [],
   "source": [
    "import requests\n",
    "import rdflib\n",
    "from rdflib import Graph\n",
    "from itertools import groupby\n",
    "\n"
   ]
  },
  {
   "cell_type": "code",
   "execution_count": 7,
   "metadata": {},
   "outputs": [],
   "source": [
    "ccss_rdf = 'http://asnstaticd2l.s3.amazonaws.com/data/rdf/D10003FB.xml'\n",
    "response = requests.get(ccss_rdf)\n",
    "with open('data/D10003FB.xml', 'wb') as xmlf:\n",
    "    xmlf.write(response.content)"
   ]
  },
  {
   "cell_type": "code",
   "execution_count": 8,
   "metadata": {},
   "outputs": [
    {
     "data": {
      "text/plain": [
       "<Graph identifier=N83e0967a74db491598324df301d35bf6 (<class 'rdflib.graph.Graph'>)>"
      ]
     },
     "execution_count": 8,
     "metadata": {},
     "output_type": "execute_result"
    }
   ],
   "source": [
    "g = Graph()\n",
    "g.parse('data/D10003FB.xml')"
   ]
  },
  {
   "cell_type": "code",
   "execution_count": 19,
   "metadata": {},
   "outputs": [
    {
     "data": {
      "text/plain": [
       "[('xml', rdflib.term.URIRef('http://www.w3.org/XML/1998/namespace')),\n",
       " ('rdf', rdflib.term.URIRef('http://www.w3.org/1999/02/22-rdf-syntax-ns#')),\n",
       " ('rdfs', rdflib.term.URIRef('http://www.w3.org/2000/01/rdf-schema#')),\n",
       " ('xsd', rdflib.term.URIRef('http://www.w3.org/2001/XMLSchema#')),\n",
       " ('asn', rdflib.term.URIRef('http://purl.org/ASN/schema/core/')),\n",
       " ('cc', rdflib.term.URIRef('http://creativecommons.org/ns#')),\n",
       " ('dc', rdflib.term.URIRef('http://purl.org/dc/elements/1.1/')),\n",
       " ('dcterms', rdflib.term.URIRef('http://purl.org/dc/terms/')),\n",
       " ('foaf', rdflib.term.URIRef('http://xmlns.com/foaf/0.1/')),\n",
       " ('gemq', rdflib.term.URIRef('http://purl.org/gem/qualifiers/')),\n",
       " ('loc', rdflib.term.URIRef('http://www.loc.gov/loc.terms/relators/')),\n",
       " ('owl', rdflib.term.URIRef('http://www.w3.org/2002/07/owl#')),\n",
       " ('skos', rdflib.term.URIRef('http://www.w3.org/2004/02/skos/core#'))]"
      ]
     },
     "execution_count": 19,
     "metadata": {},
     "output_type": "execute_result"
    }
   ],
   "source": [
    "list(g.namespaces())"
   ]
  },
  {
   "cell_type": "code",
   "execution_count": 20,
   "metadata": {},
   "outputs": [
    {
     "name": "stdout",
     "output_type": "stream",
     "text": [
      "graph has 12583 statements.\n"
     ]
    }
   ],
   "source": [
    "print(\"graph has {} statements.\".format(len(g)))"
   ]
  },
  {
   "cell_type": "code",
   "execution_count": 35,
   "metadata": {},
   "outputs": [],
   "source": [
    "stmts = sorted(list(g), key=lambda t: str(t[0]))\n",
    "\n",
    "subjects = {}\n",
    "for subj, subj_stmts in groupby(stmts, key=lambda t: str(t[0])):\n",
    "    subjects[subj] = list(subj_stmts)\n",
    "                                \n",
    "                          \n",
    "\n",
    "# for subj, pred, obj in stmts[1000:1010]:\n",
    "#     print(subj, pred, obj)"
   ]
  },
  {
   "cell_type": "code",
   "execution_count": 76,
   "metadata": {},
   "outputs": [],
   "source": [
    "# subjects['http://asn.jesandco.org/resources/S1143411']"
   ]
  },
  {
   "cell_type": "code",
   "execution_count": 37,
   "metadata": {},
   "outputs": [],
   "source": [
    "# subjects"
   ]
  },
  {
   "cell_type": "code",
   "execution_count": 50,
   "metadata": {},
   "outputs": [
    {
     "name": "stdout",
     "output_type": "stream",
     "text": [
      "http://creativecommons.org/ns#attributionName <class 'rdflib.term.URIRef'>\n",
      "http://creativecommons.org/ns#attributionURL <class 'rdflib.term.URIRef'>\n",
      "http://purl.org/ASN/schema/core/altStatementNotation <class 'rdflib.term.URIRef'>\n",
      "http://purl.org/ASN/schema/core/authorityStatus <class 'rdflib.term.URIRef'>\n",
      "http://purl.org/ASN/schema/core/comment <class 'rdflib.term.URIRef'>\n",
      "http://purl.org/ASN/schema/core/exportVersion <class 'rdflib.term.URIRef'>\n",
      "http://purl.org/ASN/schema/core/identifier <class 'rdflib.term.URIRef'>\n",
      "http://purl.org/ASN/schema/core/indexingStatus <class 'rdflib.term.URIRef'>\n",
      "http://purl.org/ASN/schema/core/jurisdiction <class 'rdflib.term.URIRef'>\n",
      "http://purl.org/ASN/schema/core/listID <class 'rdflib.term.URIRef'>\n",
      "http://purl.org/ASN/schema/core/publicationStatus <class 'rdflib.term.URIRef'>\n",
      "http://purl.org/ASN/schema/core/repositoryDate <class 'rdflib.term.URIRef'>\n",
      "http://purl.org/ASN/schema/core/statementLabel <class 'rdflib.term.URIRef'>\n",
      "http://purl.org/ASN/schema/core/statementNotation <class 'rdflib.term.URIRef'>\n",
      "http://purl.org/dc/elements/1.1/publisher <class 'rdflib.term.URIRef'>\n",
      "http://purl.org/dc/elements/1.1/title <class 'rdflib.term.URIRef'>\n",
      "http://purl.org/dc/terms/created <class 'rdflib.term.URIRef'>\n",
      "http://purl.org/dc/terms/dateCopyright <class 'rdflib.term.URIRef'>\n",
      "http://purl.org/dc/terms/description <class 'rdflib.term.URIRef'>\n",
      "http://purl.org/dc/terms/educationLevel <class 'rdflib.term.URIRef'>\n",
      "http://purl.org/dc/terms/isPartOf <class 'rdflib.term.URIRef'>\n",
      "http://purl.org/dc/terms/language <class 'rdflib.term.URIRef'>\n",
      "http://purl.org/dc/terms/modified <class 'rdflib.term.URIRef'>\n",
      "http://purl.org/dc/terms/rights <class 'rdflib.term.URIRef'>\n",
      "http://purl.org/dc/terms/rightsHolder <class 'rdflib.term.URIRef'>\n",
      "http://purl.org/dc/terms/source <class 'rdflib.term.URIRef'>\n",
      "http://purl.org/dc/terms/subject <class 'rdflib.term.URIRef'>\n",
      "http://purl.org/dc/terms/tableOfContents <class 'rdflib.term.URIRef'>\n",
      "http://purl.org/dc/terms/valid <class 'rdflib.term.URIRef'>\n",
      "http://purl.org/gem/qualifiers/hasChild <class 'rdflib.term.URIRef'>\n",
      "http://purl.org/gem/qualifiers/isChildOf <class 'rdflib.term.URIRef'>\n",
      "http://www.loc.gov/loc.terms/relators/aut <class 'rdflib.term.URIRef'>\n",
      "http://www.w3.org/1999/02/22-rdf-syntax-ns#type <class 'rdflib.term.URIRef'>\n",
      "http://www.w3.org/2004/02/skos/core#exactMatch <class 'rdflib.term.URIRef'>\n",
      "http://xmlns.com/foaf/0.1/primaryTopic <class 'rdflib.term.URIRef'>\n"
     ]
    }
   ],
   "source": [
    "predicate_result = g.query(\"\"\"\n",
    "  select ?predicates\n",
    "  where {?s ?predicates ?o}\n",
    "\"\"\")\n",
    "for row in sorted(set(predicate_result)):\n",
    "    print(row[0], type(row[0]))\n"
   ]
  },
  {
   "cell_type": "code",
   "execution_count": 49,
   "metadata": {},
   "outputs": [
    {
     "name": "stdout",
     "output_type": "stream",
     "text": [
      "http://purl.org/dc/terms/educationLevel <class 'rdflib.term.URIRef'>\n",
      "http://purl.org/dc/terms/modified <class 'rdflib.term.URIRef'>\n",
      "http://purl.org/dc/elements/1.1/publisher <class 'rdflib.term.URIRef'>\n",
      "http://purl.org/dc/terms/language <class 'rdflib.term.URIRef'>\n",
      "http://purl.org/ASN/schema/core/jurisdiction <class 'rdflib.term.URIRef'>\n",
      "http://purl.org/dc/elements/1.1/title <class 'rdflib.term.URIRef'>\n",
      "http://xmlns.com/foaf/0.1/primaryTopic <class 'rdflib.term.URIRef'>\n",
      "http://creativecommons.org/ns#attributionName <class 'rdflib.term.URIRef'>\n",
      "http://purl.org/ASN/schema/core/listID <class 'rdflib.term.URIRef'>\n",
      "http://purl.org/ASN/schema/core/statementLabel <class 'rdflib.term.URIRef'>\n",
      "http://purl.org/dc/terms/created <class 'rdflib.term.URIRef'>\n",
      "http://purl.org/dc/terms/rightsHolder <class 'rdflib.term.URIRef'>\n",
      "http://purl.org/gem/qualifiers/isChildOf <class 'rdflib.term.URIRef'>\n",
      "http://purl.org/dc/terms/source <class 'rdflib.term.URIRef'>\n",
      "http://www.w3.org/2004/02/skos/core#exactMatch <class 'rdflib.term.URIRef'>\n",
      "http://purl.org/ASN/schema/core/exportVersion <class 'rdflib.term.URIRef'>\n",
      "http://purl.org/ASN/schema/core/statementNotation <class 'rdflib.term.URIRef'>\n",
      "http://www.w3.org/1999/02/22-rdf-syntax-ns#type <class 'rdflib.term.URIRef'>\n",
      "http://purl.org/ASN/schema/core/indexingStatus <class 'rdflib.term.URIRef'>\n",
      "http://purl.org/dc/terms/valid <class 'rdflib.term.URIRef'>\n",
      "http://purl.org/dc/terms/tableOfContents <class 'rdflib.term.URIRef'>\n",
      "http://purl.org/dc/terms/isPartOf <class 'rdflib.term.URIRef'>\n",
      "http://purl.org/ASN/schema/core/identifier <class 'rdflib.term.URIRef'>\n",
      "http://purl.org/dc/terms/dateCopyright <class 'rdflib.term.URIRef'>\n",
      "http://purl.org/dc/terms/rights <class 'rdflib.term.URIRef'>\n",
      "http://purl.org/ASN/schema/core/authorityStatus <class 'rdflib.term.URIRef'>\n",
      "http://purl.org/ASN/schema/core/publicationStatus <class 'rdflib.term.URIRef'>\n",
      "http://purl.org/ASN/schema/core/altStatementNotation <class 'rdflib.term.URIRef'>\n",
      "http://purl.org/ASN/schema/core/repositoryDate <class 'rdflib.term.URIRef'>\n",
      "http://creativecommons.org/ns#attributionURL <class 'rdflib.term.URIRef'>\n",
      "http://purl.org/dc/terms/subject <class 'rdflib.term.URIRef'>\n",
      "http://purl.org/dc/terms/description <class 'rdflib.term.URIRef'>\n",
      "http://purl.org/ASN/schema/core/comment <class 'rdflib.term.URIRef'>\n",
      "http://purl.org/gem/qualifiers/hasChild <class 'rdflib.term.URIRef'>\n",
      "http://www.loc.gov/loc.terms/relators/aut <class 'rdflib.term.URIRef'>\n"
     ]
    }
   ],
   "source": [
    "predicates = g.predicates(subject=None, object=None)\n",
    "# For each item in the predicates generator, print it out\n",
    "for predicate in set(predicates):\n",
    "    print(predicate, type(predicate))\n"
   ]
  },
  {
   "cell_type": "code",
   "execution_count": 63,
   "metadata": {},
   "outputs": [
    {
     "data": {
      "text/plain": [
       "rdflib.term.URIRef('http://asn.jesandco.org/resources/S2373215')"
      ]
     },
     "execution_count": 63,
     "metadata": {},
     "output_type": "execute_result"
    }
   ],
   "source": [
    "s = list(g.subjects())[100]\n",
    "s.rd"
   ]
  },
  {
   "cell_type": "code",
   "execution_count": 77,
   "metadata": {},
   "outputs": [],
   "source": [
    "from rdfutils import get_types"
   ]
  },
  {
   "cell_type": "code",
   "execution_count": 78,
   "metadata": {},
   "outputs": [
    {
     "data": {
      "text/plain": [
       "[rdflib.term.URIRef('http://purl.org/ASN/schema/core/StandardDocument'),\n",
       " rdflib.term.URIRef('http://purl.org/ASN/schema/core/Statement')]"
      ]
     },
     "execution_count": 78,
     "metadata": {},
     "output_type": "execute_result"
    }
   ],
   "source": [
    "get_types(g)"
   ]
  },
  {
   "cell_type": "code",
   "execution_count": 48,
   "metadata": {},
   "outputs": [],
   "source": [
    "doc_meta = 'http://asn.jesandco.org/resources/D10003FB.xml'\n",
    "doc = "
   ]
  },
  {
   "cell_type": "code",
   "execution_count": null,
   "metadata": {},
   "outputs": [],
   "source": [
    "subject_kinds"
   ]
  }
 ],
 "metadata": {
  "kernelspec": {
   "display_name": "Python 3",
   "language": "python",
   "name": "python3"
  },
  "language_info": {
   "codemirror_mode": {
    "name": "ipython",
    "version": 3
   },
   "file_extension": ".py",
   "mimetype": "text/x-python",
   "name": "python",
   "nbconvert_exporter": "python",
   "pygments_lexer": "ipython3",
   "version": "3.6.9"
  }
 },
 "nbformat": 4,
 "nbformat_minor": 2
}
