{
 "cells": [
  {
   "cell_type": "code",
   "execution_count": 3,
   "metadata": {},
   "outputs": [],
   "source": [
    "import requests\n",
    "import rdflib\n",
    "from rdflib import Graph\n",
    "from itertools import groupby\n",
    "\n",
    "from rdfutils import get_vocab_props, get_terms_props\n",
    "from rdfutils import skos_to_terms\n"
   ]
  },
  {
   "cell_type": "code",
   "execution_count": 2,
   "metadata": {},
   "outputs": [
    {
     "data": {
      "text/plain": [
       "<Graph identifier=N83958c4b26dd44cdb2e0c29da9e9f6bd (<class 'rdflib.graph.Graph'>)>"
      ]
     },
     "execution_count": 2,
     "metadata": {},
     "output_type": "execute_result"
    }
   ],
   "source": [
    "skos_sample = 'http://s3.amazonaws.com/jestaticd2l/purl/scheme/ASNEducationLevel'\n",
    "g = Graph()\n",
    "g.parse(skos_sample, format='xml')\n",
    "\n"
   ]
  },
  {
   "cell_type": "code",
   "execution_count": 3,
   "metadata": {},
   "outputs": [
    {
     "name": "stdout",
     "output_type": "stream",
     "text": [
      "found concept_scheme= http://purl.org/ASN/scheme/ASNEducationLevel/\n",
      "found 26 concepts\n"
     ]
    }
   ],
   "source": [
    "vocab_data = skos_to_terms(g)"
   ]
  },
  {
   "cell_type": "code",
   "execution_count": 16,
   "metadata": {},
   "outputs": [],
   "source": [
    "# vocab_data"
   ]
  },
  {
   "cell_type": "code",
   "execution_count": 5,
   "metadata": {},
   "outputs": [
    {
     "name": "stdout",
     "output_type": "stream",
     "text": [
      "type: ControlledVocabulary\n",
      "name: ASNEducationLevel\n",
      "uri: http://purl.org/ASN/scheme/ASNEducationLevel/\n",
      "description: This vocabulary defines education levels for pre-kindergarten through\n",
      "  grade 12 for the United States. It also defines general categories for post-secondary\n",
      "  education (vocational, professional and life-long learning).\n",
      "title: U.S. Education Level Vocabulary\n",
      "terms:\n",
      "- term: '10'\n",
      "  label: '10'\n",
      "  alt_label: Tenth Grade\n",
      "  definition: null\n",
      "  source_uri: http://purl.org/ASN/scheme/ASNEducationLevel/10\n",
      "- term: Graduate\n",
      "  label: Graduate\n",
      "  alt_label: null\n",
      "  definition: null\n",
      "  source_uri: http://purl.org/ASN/scheme/ASNEducationLevel/Graduate\n",
      "- term: Undergraduate-UpperDivision\n",
      "  label: Undergraduate (Upper Division)\n",
      "  alt_label: Four Year College\n",
      "  definition: null\n",
      "  source_uri: http://purl.org/ASN/scheme/ASNEducationLevel/Undergraduate-UpperDivision\n",
      "- term: '12'\n",
      "  label: '12'\n",
      "  alt_label: Twelfth Grade\n",
      "  definition: null\n",
      "  source_uri: http://purl.org/ASN/scheme/ASNEducationLevel/12\n",
      "- term: HighSchool\n",
      "  label: High School\n",
      "  alt_label: null\n",
      "  definition: null\n",
      "  source_uri: http://purl.org/ASN/scheme/ASNEducationLevel/HighSchool\n",
      "- term: '7'\n",
      "  label: '7'\n",
      "  alt_label: Seventh Grade\n",
      "  definition: null\n",
      "  source_uri: http://purl.org/ASN/scheme/ASNEducationLevel/7\n",
      "- term: '9'\n",
      "  label: '9'\n",
      "  alt_label: Ninth Grade\n",
      "  definition: null\n",
      "  source_uri: http://purl.org/ASN/scheme/ASNEducationLevel/9\n",
      "- term: '1'\n",
      "  label: '1'\n",
      "  alt_label: First Grade\n",
      "  definition: null\n",
      "  source_uri: http://purl.org/ASN/scheme/ASNEducationLevel/1\n",
      "- term: ElementarySchool\n",
      "  label: Elementary School\n",
      "  alt_label: null\n",
      "  definition: null\n",
      "  source_uri: http://purl.org/ASN/scheme/ASNEducationLevel/ElementarySchool\n",
      "- term: HigherEducation\n",
      "  label: Higher Education\n",
      "  alt_label: College\n",
      "  definition: null\n",
      "  source_uri: http://purl.org/ASN/scheme/ASNEducationLevel/HigherEducation\n",
      "- term: Undergraduate-LowerDivision\n",
      "  label: Undergraduate (Lower Division)\n",
      "  alt_label: Two Year College\n",
      "  definition: null\n",
      "  source_uri: http://purl.org/ASN/scheme/ASNEducationLevel/Undergraduate-LowerDivision\n",
      "- term: '11'\n",
      "  label: '11'\n",
      "  alt_label: Eleventh Grade\n",
      "  definition: null\n",
      "  source_uri: http://purl.org/ASN/scheme/ASNEducationLevel/11\n",
      "- term: '6'\n",
      "  label: '6'\n",
      "  alt_label: Sixth Grade\n",
      "  definition: null\n",
      "  source_uri: http://purl.org/ASN/scheme/ASNEducationLevel/6\n",
      "- term: MiddleSchool\n",
      "  label: Middle School\n",
      "  alt_label: null\n",
      "  definition: null\n",
      "  source_uri: http://purl.org/ASN/scheme/ASNEducationLevel/MiddleSchool\n",
      "- term: '8'\n",
      "  label: '8'\n",
      "  alt_label: Eighth Grade\n",
      "  definition: null\n",
      "  source_uri: http://purl.org/ASN/scheme/ASNEducationLevel/8\n",
      "- term: PreKto12\n",
      "  label: Pre-K to 12\n",
      "  alt_label: null\n",
      "  definition: null\n",
      "  source_uri: http://purl.org/ASN/scheme/ASNEducationLevel/PreKto12\n",
      "- term: '5'\n",
      "  label: '5'\n",
      "  alt_label: Fifth Grade\n",
      "  definition: null\n",
      "  source_uri: http://purl.org/ASN/scheme/ASNEducationLevel/5\n",
      "- term: K\n",
      "  label: K\n",
      "  alt_label: Kindergarten\n",
      "  definition: null\n",
      "  source_uri: http://purl.org/ASN/scheme/ASNEducationLevel/K\n",
      "- term: VocationalTraining\n",
      "  label: Vocational Training\n",
      "  alt_label: null\n",
      "  definition: null\n",
      "  source_uri: http://purl.org/ASN/scheme/ASNEducationLevel/VocationalTraining\n",
      "- term: '4'\n",
      "  label: '4'\n",
      "  alt_label: Fourth Grade\n",
      "  definition: null\n",
      "  source_uri: http://purl.org/ASN/scheme/ASNEducationLevel/4\n",
      "- term: ProfessionalEducation-Development\n",
      "  label: Professional Education & Further Development\n",
      "  alt_label: null\n",
      "  definition: null\n",
      "  source_uri: http://purl.org/ASN/scheme/ASNEducationLevel/ProfessionalEducation-Development\n",
      "- term: '2'\n",
      "  label: '2'\n",
      "  alt_label: Second Grade\n",
      "  definition: null\n",
      "  source_uri: http://purl.org/ASN/scheme/ASNEducationLevel/2\n",
      "- term: AdultEducation\n",
      "  label: Adult Education\n",
      "  alt_label: null\n",
      "  definition: null\n",
      "  source_uri: http://purl.org/ASN/scheme/ASNEducationLevel/AdultEducation\n",
      "- term: '3'\n",
      "  label: '3'\n",
      "  alt_label: Third Grade\n",
      "  definition: null\n",
      "  source_uri: http://purl.org/ASN/scheme/ASNEducationLevel/3\n",
      "- term: Pre-K\n",
      "  label: Pre-Kindergarten\n",
      "  alt_label: Preschool\n",
      "  definition: null\n",
      "  source_uri: http://purl.org/ASN/scheme/ASNEducationLevel/Pre-K\n",
      "- term: LifeLongLearning\n",
      "  label: Life-Long Learning\n",
      "  alt_label: null\n",
      "  definition: null\n",
      "  source_uri: http://purl.org/ASN/scheme/ASNEducationLevel/LifeLongLearning\n",
      "\n"
     ]
    }
   ],
   "source": [
    "import yaml\n",
    "print(yaml.dump(vocab_data, sort_keys=False))"
   ]
  },
  {
   "cell_type": "code",
   "execution_count": null,
   "metadata": {},
   "outputs": [],
   "source": []
  },
  {
   "cell_type": "code",
   "execution_count": 4,
   "metadata": {},
   "outputs": [
    {
     "name": "stdout",
     "output_type": "stream",
     "text": [
      "found concept_scheme= http://purl.org/ASN/scheme/ASNTopic/\n",
      "found 26 concepts\n",
      "type: ControlledVocabulary\n",
      "name: ASNTopic\n",
      "uri: http://purl.org/ASN/scheme/ASNTopic/\n",
      "description: A vocabulary of subjects (learning area subjects) intended to provide\n",
      "  a uniform categorization of achievement standards across the USA.\n",
      "title: U.S. Subject Vocabulary\n",
      "terms:\n",
      "- term: englishLanguageDevelopment\n",
      "  label: English Language Development\n",
      "  alt_label: English as a Second Language\n",
      "  definition: null\n",
      "  source_uri: http://purl.org/ASN/scheme/ASNTopic/englishLanguageDevelopment\n",
      "- term: foreignLanguage\n",
      "  label: Foreign Language\n",
      "  alt_label: World Language\n",
      "  definition: null\n",
      "  source_uri: http://purl.org/ASN/scheme/ASNTopic/foreignLanguage\n",
      "- term: engineering\n",
      "  label: Engineering\n",
      "  alt_label: null\n",
      "  definition: null\n",
      "  source_uri: http://purl.org/ASN/scheme/ASNTopic/engineering\n",
      "- term: socialStudies\n",
      "  label: Social Studies\n",
      "  alt_label: null\n",
      "  definition: null\n",
      "  source_uri: http://purl.org/ASN/scheme/ASNTopic/socialStudies\n",
      "- term: worldHistory\n",
      "  label: World History\n",
      "  alt_label: null\n",
      "  definition: null\n",
      "  source_uri: http://purl.org/ASN/scheme/ASNTopic/worldHistory\n",
      "- term: historicalUnderstanding\n",
      "  label: Historical Understanding\n",
      "  alt_label: null\n",
      "  definition: null\n",
      "  source_uri: http://purl.org/ASN/scheme/ASNTopic/historicalUnderstanding\n",
      "- term: economics\n",
      "  label: Economics\n",
      "  alt_label: null\n",
      "  definition: null\n",
      "  source_uri: http://purl.org/ASN/scheme/ASNTopic/economics\n",
      "- term: math\n",
      "  label: Math\n",
      "  alt_label: Mathematics\n",
      "  definition: null\n",
      "  source_uri: http://purl.org/ASN/scheme/ASNTopic/math\n",
      "- term: education\n",
      "  label: Education\n",
      "  alt_label: null\n",
      "  definition: null\n",
      "  source_uri: http://purl.org/ASN/scheme/ASNTopic/education\n",
      "- term: technology\n",
      "  label: Technology\n",
      "  alt_label: null\n",
      "  definition: null\n",
      "  source_uri: http://purl.org/ASN/scheme/ASNTopic/technology\n",
      "- term: k-4HistoryAndStateHistory\n",
      "  label: K-4 History and State History\n",
      "  alt_label: null\n",
      "  definition: null\n",
      "  source_uri: http://purl.org/ASN/scheme/ASNTopic/k-4HistoryAndStateHistory\n",
      "- term: geography\n",
      "  label: Geography\n",
      "  alt_label: null\n",
      "  definition: null\n",
      "  source_uri: http://purl.org/ASN/scheme/ASNTopic/geography\n",
      "- term: science\n",
      "  label: Science\n",
      "  alt_label: null\n",
      "  definition: null\n",
      "  source_uri: http://purl.org/ASN/scheme/ASNTopic/science\n",
      "- term: behavioralStudies\n",
      "  label: Behavioral Studies\n",
      "  alt_label: null\n",
      "  definition: null\n",
      "  source_uri: http://purl.org/ASN/scheme/ASNTopic/behavioralStudies\n",
      "- term: libMedia-InfoLit\n",
      "  label: Library Media / Information Literacy\n",
      "  alt_label: null\n",
      "  definition: null\n",
      "  source_uri: http://purl.org/ASN/scheme/ASNTopic/libMedia-InfoLit\n",
      "- term: physicalEducation\n",
      "  label: Physical Education\n",
      "  alt_label: null\n",
      "  definition: null\n",
      "  source_uri: http://purl.org/ASN/scheme/ASNTopic/physicalEducation\n",
      "- term: theArts\n",
      "  label: The Arts\n",
      "  alt_label: null\n",
      "  definition: null\n",
      "  source_uri: http://purl.org/ASN/scheme/ASNTopic/theArts\n",
      "- term: health\n",
      "  label: Health\n",
      "  alt_label: null\n",
      "  definition: null\n",
      "  source_uri: http://purl.org/ASN/scheme/ASNTopic/health\n",
      "- term: english\n",
      "  label: English\n",
      "  alt_label: null\n",
      "  definition: null\n",
      "  source_uri: http://purl.org/ASN/scheme/ASNTopic/english\n",
      "- term: civics\n",
      "  label: Civics\n",
      "  alt_label: null\n",
      "  definition: null\n",
      "  source_uri: http://purl.org/ASN/scheme/ASNTopic/civics\n",
      "- term: careerEducation\n",
      "  label: Career Education\n",
      "  alt_label: null\n",
      "  definition: null\n",
      "  source_uri: http://purl.org/ASN/scheme/ASNTopic/careerEducation\n",
      "- term: usHistory\n",
      "  label: U.S. History\n",
      "  alt_label: null\n",
      "  definition: null\n",
      "  source_uri: http://purl.org/ASN/scheme/ASNTopic/usHistory\n",
      "- term: learning\n",
      "  label: Learning\n",
      "  alt_label: null\n",
      "  definition: null\n",
      "  source_uri: http://purl.org/ASN/scheme/ASNTopic/learning\n",
      "- term: lifeSkills\n",
      "  label: Life Skills\n",
      "  alt_label: null\n",
      "  definition: null\n",
      "  source_uri: http://purl.org/ASN/scheme/ASNTopic/lifeSkills\n",
      "- term: spanish\n",
      "  label: Spanish\n",
      "  alt_label: null\n",
      "  definition: null\n",
      "  source_uri: http://purl.org/ASN/scheme/ASNTopic/spanish\n",
      "- term: financialLiteracy\n",
      "  label: Financial Literacy\n",
      "  alt_label: null\n",
      "  definition: null\n",
      "  source_uri: http://purl.org/ASN/scheme/ASNTopic/financialLiteracy\n",
      "\n"
     ]
    }
   ],
   "source": [
    "us_subjects = \"http://s3.amazonaws.com/jestaticd2l/purl/scheme/ASNTopic\"\n",
    "g = Graph()\n",
    "g.parse(us_subjects, format='xml')\n",
    "vocab_data = skos_to_terms(g)\n",
    "import yaml\n",
    "print(yaml.dump(vocab_data, sort_keys=False))"
   ]
  },
  {
   "cell_type": "code",
   "execution_count": null,
   "metadata": {},
   "outputs": [],
   "source": []
  },
  {
   "cell_type": "code",
   "execution_count": 2,
   "metadata": {},
   "outputs": [],
   "source": [
    "# get_vocab_props(g)"
   ]
  },
  {
   "cell_type": "code",
   "execution_count": 1,
   "metadata": {},
   "outputs": [],
   "source": [
    "# get_terms_props(g)"
   ]
  },
  {
   "cell_type": "code",
   "execution_count": 8,
   "metadata": {},
   "outputs": [],
   "source": [
    "from rdfutils import get_types, get_subjects_by_type, TYPE_PRED, build_class_props_map\n",
    "\n"
   ]
  },
  {
   "cell_type": "code",
   "execution_count": 9,
   "metadata": {},
   "outputs": [
    {
     "data": {
      "text/plain": [
       "[rdflib.term.URIRef('http://www.w3.org/2004/02/skos/core#Concept'),\n",
       " rdflib.term.URIRef('http://www.w3.org/2004/02/skos/core#ConceptScheme')]"
      ]
     },
     "execution_count": 9,
     "metadata": {},
     "output_type": "execute_result"
    }
   ],
   "source": [
    "get_types(g)"
   ]
  },
  {
   "cell_type": "code",
   "execution_count": 10,
   "metadata": {},
   "outputs": [],
   "source": [
    "CONCEPT_PRED = get_types(g)[0]\n",
    "CONCEPT_SCHEME_PRED = get_types(g)[1]"
   ]
  },
  {
   "cell_type": "code",
   "execution_count": 11,
   "metadata": {},
   "outputs": [
    {
     "data": {
      "text/plain": [
       "rdflib.term.URIRef('http://purl.org/ASN/scheme/ASNEducationLevel/')"
      ]
     },
     "execution_count": 11,
     "metadata": {},
     "output_type": "execute_result"
    }
   ],
   "source": [
    "scheme = list(get_subjects_by_type(g, CONCEPT_SCHEME_PRED))[0]\n",
    "scheme"
   ]
  },
  {
   "cell_type": "code",
   "execution_count": 12,
   "metadata": {},
   "outputs": [
    {
     "data": {
      "text/plain": [
       "[rdflib.term.URIRef('http://purl.org/ASN/scheme/ASNEducationLevel/10'),\n",
       " rdflib.term.URIRef('http://purl.org/ASN/scheme/ASNEducationLevel/Graduate'),\n",
       " rdflib.term.URIRef('http://purl.org/ASN/scheme/ASNEducationLevel/Undergraduate-UpperDivision'),\n",
       " rdflib.term.URIRef('http://purl.org/ASN/scheme/ASNEducationLevel/12'),\n",
       " rdflib.term.URIRef('http://purl.org/ASN/scheme/ASNEducationLevel/HighSchool'),\n",
       " rdflib.term.URIRef('http://purl.org/ASN/scheme/ASNEducationLevel/7'),\n",
       " rdflib.term.URIRef('http://purl.org/ASN/scheme/ASNEducationLevel/9'),\n",
       " rdflib.term.URIRef('http://purl.org/ASN/scheme/ASNEducationLevel/1'),\n",
       " rdflib.term.URIRef('http://purl.org/ASN/scheme/ASNEducationLevel/ElementarySchool'),\n",
       " rdflib.term.URIRef('http://purl.org/ASN/scheme/ASNEducationLevel/HigherEducation'),\n",
       " rdflib.term.URIRef('http://purl.org/ASN/scheme/ASNEducationLevel/Undergraduate-LowerDivision'),\n",
       " rdflib.term.URIRef('http://purl.org/ASN/scheme/ASNEducationLevel/11'),\n",
       " rdflib.term.URIRef('http://purl.org/ASN/scheme/ASNEducationLevel/6'),\n",
       " rdflib.term.URIRef('http://purl.org/ASN/scheme/ASNEducationLevel/MiddleSchool'),\n",
       " rdflib.term.URIRef('http://purl.org/ASN/scheme/ASNEducationLevel/8'),\n",
       " rdflib.term.URIRef('http://purl.org/ASN/scheme/ASNEducationLevel/PreKto12'),\n",
       " rdflib.term.URIRef('http://purl.org/ASN/scheme/ASNEducationLevel/5'),\n",
       " rdflib.term.URIRef('http://purl.org/ASN/scheme/ASNEducationLevel/K'),\n",
       " rdflib.term.URIRef('http://purl.org/ASN/scheme/ASNEducationLevel/VocationalTraining'),\n",
       " rdflib.term.URIRef('http://purl.org/ASN/scheme/ASNEducationLevel/4'),\n",
       " rdflib.term.URIRef('http://purl.org/ASN/scheme/ASNEducationLevel/ProfessionalEducation-Development'),\n",
       " rdflib.term.URIRef('http://purl.org/ASN/scheme/ASNEducationLevel/2'),\n",
       " rdflib.term.URIRef('http://purl.org/ASN/scheme/ASNEducationLevel/AdultEducation'),\n",
       " rdflib.term.URIRef('http://purl.org/ASN/scheme/ASNEducationLevel/3'),\n",
       " rdflib.term.URIRef('http://purl.org/ASN/scheme/ASNEducationLevel/Pre-K'),\n",
       " rdflib.term.URIRef('http://purl.org/ASN/scheme/ASNEducationLevel/LifeLongLearning')]"
      ]
     },
     "execution_count": 12,
     "metadata": {},
     "output_type": "execute_result"
    }
   ],
   "source": [
    "list(get_subjects_by_type(g, CONCEPT_PRED))"
   ]
  },
  {
   "cell_type": "code",
   "execution_count": 13,
   "metadata": {},
   "outputs": [
    {
     "data": {
      "text/plain": [
       "[(rdflib.term.URIRef('http://www.w3.org/1999/02/22-rdf-syntax-ns#type'),\n",
       "  rdflib.term.URIRef('http://www.w3.org/2004/02/skos/core#ConceptScheme')),\n",
       " (rdflib.term.URIRef('http://purl.org/dc/elements/1.1/description'),\n",
       "  rdflib.term.Literal('This vocabulary defines education levels for pre-kindergarten through grade 12 for the United States. It also defines general categories for post-secondary education (vocational, professional and life-long learning).', lang='en-US')),\n",
       " (rdflib.term.URIRef('http://www.w3.org/2004/02/skos/core#hasTopConcept'),\n",
       "  rdflib.term.URIRef('http://purl.org/ASN/scheme/ASNEducationLevel/ProfessionalEducation-Development')),\n",
       " (rdflib.term.URIRef('http://purl.org/dc/elements/1.1/title'),\n",
       "  rdflib.term.Literal('U.S. Education Level Vocabulary', lang='en-US')),\n",
       " (rdflib.term.URIRef('http://purl.org/dc/terms/modified'),\n",
       "  rdflib.term.Literal('2015-12-15', datatype=rdflib.term.URIRef('http://purl.org/dc/terms/W3CDTF'))),\n",
       " (rdflib.term.URIRef('http://www.w3.org/2004/02/skos/core#hasTopConcept'),\n",
       "  rdflib.term.URIRef('http://purl.org/ASN/scheme/ASNEducationLevel/VocationalTraining')),\n",
       " (rdflib.term.URIRef('http://www.w3.org/2004/02/skos/core#hasTopConcept'),\n",
       "  rdflib.term.URIRef('http://purl.org/ASN/scheme/ASNEducationLevel/LifeLongLearning')),\n",
       " (rdflib.term.URIRef('http://www.w3.org/2004/02/skos/core#hasTopConcept'),\n",
       "  rdflib.term.URIRef('http://purl.org/ASN/scheme/ASNEducationLevel/HigherEducation')),\n",
       " (rdflib.term.URIRef('http://www.w3.org/2004/02/skos/core#hasTopConcept'),\n",
       "  rdflib.term.URIRef('http://purl.org/ASN/scheme/ASNEducationLevel/PreKto12')),\n",
       " (rdflib.term.URIRef('http://www.w3.org/2004/02/skos/core#hasTopConcept'),\n",
       "  rdflib.term.URIRef('http://purl.org/ASN/scheme/ASNEducationLevel/AdultEducation')),\n",
       " (rdflib.term.URIRef('http://purl.org/dc/elements/1.1/creator'),\n",
       "  rdflib.term.Literal('Stuart A. Sutton', lang='en-US'))]"
      ]
     },
     "execution_count": 13,
     "metadata": {},
     "output_type": "execute_result"
    }
   ],
   "source": [
    "list(g.predicate_objects(subject=scheme))"
   ]
  },
  {
   "cell_type": "code",
   "execution_count": 14,
   "metadata": {},
   "outputs": [
    {
     "data": {
      "text/plain": [
       "[('xml', rdflib.term.URIRef('http://www.w3.org/XML/1998/namespace')),\n",
       " ('rdf', rdflib.term.URIRef('http://www.w3.org/1999/02/22-rdf-syntax-ns#')),\n",
       " ('rdfs', rdflib.term.URIRef('http://www.w3.org/2000/01/rdf-schema#')),\n",
       " ('xsd', rdflib.term.URIRef('http://www.w3.org/2001/XMLSchema#')),\n",
       " ('dc', rdflib.term.URIRef('http://purl.org/dc/elements/1.1/')),\n",
       " ('dcterms', rdflib.term.URIRef('http://purl.org/dc/terms/')),\n",
       " ('skos', rdflib.term.URIRef('http://www.w3.org/2004/02/skos/core#'))]"
      ]
     },
     "execution_count": 14,
     "metadata": {},
     "output_type": "execute_result"
    }
   ],
   "source": [
    "list(g.namespaces())"
   ]
  },
  {
   "cell_type": "code",
   "execution_count": 15,
   "metadata": {},
   "outputs": [
    {
     "data": {
      "text/plain": [
       "'2009-02-12'"
      ]
     },
     "execution_count": 15,
     "metadata": {},
     "output_type": "execute_result"
    }
   ],
   "source": [
    "# dates as STR\n",
    "l = rdflib.term.Literal('2009-02-12', datatype=rdflib.term.URIRef('http://purl.org/dc/terms/W3CDTF'))\n",
    "str(l)"
   ]
  },
  {
   "cell_type": "code",
   "execution_count": null,
   "metadata": {},
   "outputs": [],
   "source": []
  }
 ],
 "metadata": {
  "kernelspec": {
   "display_name": "Python 3",
   "language": "python",
   "name": "python3"
  },
  "language_info": {
   "codemirror_mode": {
    "name": "ipython",
    "version": 3
   },
   "file_extension": ".py",
   "mimetype": "text/x-python",
   "name": "python",
   "nbconvert_exporter": "python",
   "pygments_lexer": "ipython3",
   "version": "3.6.9"
  }
 },
 "nbformat": 4,
 "nbformat_minor": 4
}
