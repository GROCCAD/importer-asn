{
 "cells": [
  {
   "cell_type": "code",
   "execution_count": 1,
   "metadata": {},
   "outputs": [],
   "source": [
    "import requests\n",
    "import rdflib\n",
    "from rdflib import Graph\n",
    "from rdflib.term import URIRef\n",
    "from itertools import groupby\n",
    "from rdflib.term import Literal\n",
    "\n",
    "from rdfutils import get_types, TYPE_PRED, build_class_props_map, print_class_props_map\n",
    "\n",
    "schema_rdf = 'http://s3.amazonaws.com/jestaticd2l/purl/schema/standard'"
   ]
  },
  {
   "cell_type": "code",
   "execution_count": 2,
   "metadata": {},
   "outputs": [
    {
     "data": {
      "text/plain": [
       "<Graph identifier=Nd7d1b63051894ef7a4f0a23a78d96b28 (<class 'rdflib.graph.Graph'>)>"
      ]
     },
     "execution_count": 2,
     "metadata": {},
     "output_type": "execute_result"
    }
   ],
   "source": [
    "g = Graph()\n",
    "g.parse(schema_rdf)"
   ]
  },
  {
   "cell_type": "code",
   "execution_count": 3,
   "metadata": {},
   "outputs": [
    {
     "data": {
      "text/plain": [
       "[('xml', rdflib.term.URIRef('http://www.w3.org/XML/1998/namespace')),\n",
       " ('rdf', rdflib.term.URIRef('http://www.w3.org/1999/02/22-rdf-syntax-ns#')),\n",
       " ('rdfs', rdflib.term.URIRef('http://www.w3.org/2000/01/rdf-schema#')),\n",
       " ('xsd', rdflib.term.URIRef('http://www.w3.org/2001/XMLSchema#')),\n",
       " ('asn', rdflib.term.URIRef('http://purl.org/ASN/schema/core/')),\n",
       " ('dc', rdflib.term.URIRef('http://purl.org/dc/elements/1.1/')),\n",
       " ('dcterms', rdflib.term.URIRef('http://purl.org/dc/terms/')),\n",
       " ('loc', rdflib.term.URIRef('http://www.loc.gov/loc.terms/relators/')),\n",
       " ('skos', rdflib.term.URIRef('http://www.w3.org/2004/02/skos/core#')),\n",
       " ('owl', rdflib.term.URIRef('http://www.w3.org/2002/07/owl#')),\n",
       " ('schema', rdflib.term.URIRef('http://schema.org/')),\n",
       " ('vann', rdflib.term.URIRef('http://purl.org/vocab/vann/'))]"
      ]
     },
     "execution_count": 3,
     "metadata": {},
     "output_type": "execute_result"
    }
   ],
   "source": [
    "list(g.namespaces())"
   ]
  },
  {
   "cell_type": "code",
   "execution_count": 4,
   "metadata": {},
   "outputs": [],
   "source": [
    "class_props_map = build_class_props_map(g)"
   ]
  },
  {
   "cell_type": "code",
   "execution_count": 5,
   "metadata": {},
   "outputs": [],
   "source": [
    "# import pprint\n",
    "# pprint.pprint(class_props_map)"
   ]
  },
  {
   "cell_type": "code",
   "execution_count": 6,
   "metadata": {
    "scrolled": false
   },
   "outputs": [
    {
     "name": "stdout",
     "output_type": "stream",
     "text": [
      "asn:ProficiencyScale label= Proficiency Scale\n",
      "\n",
      "asn:RubricCriterion label= Rubric Criterion\n",
      "asn:criterionFor\tasn:Rubric\n",
      "asn:hasLevel\tasn:CriterionLevel\n",
      "asn:sequence\txsd:integer\n",
      "\n",
      "asn:DerivedStandardDocument label= Derived Standard Document\n",
      "\n",
      "asn:LearningResource label= Learning Resource\n",
      "asn:majorCorrelation\tasn:Statement\n",
      "asn:narrowCorrelation\tasn:Statement\n",
      "asn:assessesCompetency\tasn:Statement\n",
      "asn:exactCorrelation\tasn:Statement\n",
      "asn:broadCorrelation\tasn:Statement\n",
      "asn:minorCorrelation\tasn:Statement\n",
      "asn:prerequisiteCompetency\tasn:Statement\n",
      "asn:teachesCompetency\tasn:Statement\n",
      "\n",
      "asn:DerivedStatement label= Derived Statement\n",
      "\n",
      "asn:JurisdictionScheme label= Jurisdiction Encoding Schemes\n",
      "\n",
      "asn:Rubric label= Rubric\n",
      "asn:hasCriterion\tasn:RubricCriterion\n",
      "asn:source\txsd:anyURI\n",
      "asn:hasCriterionCategory\tasn:CriterionCategory\n",
      "asn:hasProgressionModel\tasn:ProgressionModel\n",
      "asn:hasScope\trdf:langString\n",
      "\n",
      "asn:StandardDocument label= Standard Document\n",
      "asn:assessmentRubric\tasn:Rubric\n",
      "\n",
      "asn:StatusScheme label= Status Encoding Schemes\n",
      "\n",
      "asn:CriterionCategory label= Criterion Category\n",
      "\n",
      "asn:EducationalFramework label= Educational Framework\n",
      "\n",
      "asn:CriterionLevel label= Criterion Level\n",
      "asn:levelFor\tasn:RubricCriterion\n",
      "asn:hasProgressionLevel\tskos:Concept\n",
      "asn:qualityLabel\txsd:string\n",
      "asn:score\txsd:float\n",
      "asn:sequence\txsd:integer\n",
      "asn:benchmark\trdf:langString\n",
      "\n",
      "asn:Statement label= Statement\n",
      "asn:complexityLevel\tasn:ProficiencyScale\n",
      "asn:weight\t\n",
      "asn:minorAlignment\tasn:Statement\n",
      "asn:broadAlignment\tasn:Statement\n",
      "asn:prerequisiteAlignment\tasn:Statement\n",
      "asn:majorAlignment\tasn:Statement\n",
      "asn:narrowAlignment\tasn:Statement\n",
      "asn:exactAlignment\tasn:Statement\n",
      "\n",
      "asn:CorrelationResource label= Correlation Resource\n",
      "\n"
     ]
    }
   ],
   "source": [
    "\n",
    "print_class_props_map(g, class_props_map)"
   ]
  },
  {
   "cell_type": "code",
   "execution_count": null,
   "metadata": {},
   "outputs": [],
   "source": []
  },
  {
   "cell_type": "code",
   "execution_count": 7,
   "metadata": {},
   "outputs": [
    {
     "data": {
      "text/plain": [
       "[('xml', rdflib.term.URIRef('http://www.w3.org/XML/1998/namespace')),\n",
       " ('rdf', rdflib.term.URIRef('http://www.w3.org/1999/02/22-rdf-syntax-ns#')),\n",
       " ('rdfs', rdflib.term.URIRef('http://www.w3.org/2000/01/rdf-schema#')),\n",
       " ('xsd', rdflib.term.URIRef('http://www.w3.org/2001/XMLSchema#')),\n",
       " ('asn', rdflib.term.URIRef('http://purl.org/ASN/schema/core/')),\n",
       " ('dc', rdflib.term.URIRef('http://purl.org/dc/elements/1.1/')),\n",
       " ('dcterms', rdflib.term.URIRef('http://purl.org/dc/terms/')),\n",
       " ('loc', rdflib.term.URIRef('http://www.loc.gov/loc.terms/relators/')),\n",
       " ('skos', rdflib.term.URIRef('http://www.w3.org/2004/02/skos/core#')),\n",
       " ('owl', rdflib.term.URIRef('http://www.w3.org/2002/07/owl#')),\n",
       " ('schema', rdflib.term.URIRef('http://schema.org/')),\n",
       " ('vann', rdflib.term.URIRef('http://purl.org/vocab/vann/'))]"
      ]
     },
     "execution_count": 7,
     "metadata": {},
     "output_type": "execute_result"
    }
   ],
   "source": [
    "list(g.namespaces())"
   ]
  },
  {
   "cell_type": "code",
   "execution_count": null,
   "metadata": {},
   "outputs": [],
   "source": []
  },
  {
   "cell_type": "code",
   "execution_count": null,
   "metadata": {},
   "outputs": [],
   "source": []
  }
 ],
 "metadata": {
  "kernelspec": {
   "display_name": "Python 3",
   "language": "python",
   "name": "python3"
  },
  "language_info": {
   "codemirror_mode": {
    "name": "ipython",
    "version": 3
   },
   "file_extension": ".py",
   "mimetype": "text/x-python",
   "name": "python",
   "nbconvert_exporter": "python",
   "pygments_lexer": "ipython3",
   "version": "3.6.9"
  }
 },
 "nbformat": 4,
 "nbformat_minor": 2
}
